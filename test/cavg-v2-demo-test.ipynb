{
 "cells": [
  {
   "cell_type": "markdown",
   "id": "ff12f472de127a62",
   "metadata": {},
   "source": [
    "### 기본설정"
   ]
  },
  {
   "cell_type": "code",
   "execution_count": null,
   "id": "5045a2240fb67980",
   "metadata": {
    "ExecuteTime": {
     "end_time": "2025-06-12T17:43:04.896664Z",
     "start_time": "2025-06-12T17:43:04.408131Z"
    }
   },
   "outputs": [],
   "source": [
    "import os\n",
    "import sys\n",
    "\n",
    "module_path = os.path.abspath(os.path.join('..'))\n",
    "if module_path not in sys.path:\n",
    "    sys.path.append(module_path)\n",
    "\n",
    "from consistentvideo import reference\n",
    "from consistentvideo import story\n",
    "from consistentvideo import video"
   ]
  },
  {
   "cell_type": "markdown",
   "id": "bfeebb57f2fd0d33",
   "metadata": {},
   "source": [
    "디렉토리 설정"
   ]
  },
  {
   "cell_type": "code",
   "execution_count": null,
   "id": "4e5e8e84021c3b68",
   "metadata": {
    "ExecuteTime": {
     "end_time": "2025-06-12T17:43:05.458905Z",
     "start_time": "2025-06-12T17:43:05.455857Z"
    }
   },
   "outputs": [],
   "source": [
    "# 디렉토리 설정\n",
    "# BASE_DIR = os.path.abspath(os.path.join('.'))\n",
    "# UPLOAD_DIR = os.path.join(BASE_DIR, \"uploads\")\n",
    "# os.makedirs(UPLOAD_DIR, exist_ok=True)\n",
    "# file_path = os.path.join(UPLOAD_DIR, \"컬투쇼버스.txt\")\n",
    "\n",
    "# 기본\n",
    "ENTITY_SET_NAME = \"컬투쇼버스리팩토링250817_0456\"\n",
    "WORK_DIR = os.path.join(\"demo-file/\", ENTITY_SET_NAME)\n",
    "\n",
    "# 레퍼런스 생성부\n",
    "SYNOPSIS_TXT_PATH = \"demo-file/컬투쇼버스.txt\"  # SYNOPSIS_TEXT 파일입출력(선택)\n",
    "SYNOPSIS_TEXT = \"시놉시스 텍스트\"\n",
    "REFERENCE_PATH = os.path.join(WORK_DIR, \"reference\")\n",
    "REFERENCE_IMG_PATH = os.path.join(REFERENCE_PATH, \"images\")\n",
    "REFERENCE_ENTITY_LIST_PATH = os.path.join(REFERENCE_PATH, \"entity_list.txt\")\n",
    "\n",
    "# 씬/컷 분리부\n",
    "STORY_TXT_PATH = \"demo-file/컬투쇼버스.txt\"  # STORY_TEXT 파일입출력(선택)\n",
    "STORY_TEXT = \"스토리 텍스트\"\n",
    "STORY_PATH = os.path.join(WORK_DIR, \"story\")\n",
    "STORY_CUT_LIST_PATH = os.path.join(STORY_PATH, \"cut.txt\")\n",
    "\n",
    "# 비디오 생성부\n",
    "VIDEO_PATH = os.path.join(WORK_DIR, \"video\")\n",
    "CUT_IMG_PATH = os.path.join(VIDEO_PATH, \"cut-images\")\n",
    "VIDEO_OUTPUT_PATH = os.path.join(VIDEO_PATH, \"output\")\n",
    "VIDEO_CLIP_LIST_PATH = os.path.join(VIDEO_PATH, \"clip_file_list.txt\")\n",
    "VIDEO_CONCAT_OUTPUT_PATH = os.path.join(VIDEO_PATH, f\"{ENTITY_SET_NAME}_concat_video.mp4\")\n",
    "\n",
    "os.makedirs(WORK_DIR, exist_ok=True)"
   ]
  },
  {
   "cell_type": "markdown",
   "id": "5b211cbf2b69cd52",
   "metadata": {},
   "source": [
    "## 레퍼런스 생성부 테스트"
   ]
  },
  {
   "cell_type": "code",
   "execution_count": null,
   "id": "initial_id",
   "metadata": {
    "ExecuteTime": {
     "end_time": "2025-06-12T16:57:58.403438Z",
     "start_time": "2025-06-12T16:57:58.361294Z"
    }
   },
   "outputs": [],
   "source": [
    "# 클래스 인스턴스\n",
    "analyzer = reference.SynopsisAnalyzer()\n",
    "character_creator = reference.CharacterImageCreator()\n",
    "location_creator = reference.LocationImageCreator()\n",
    "object_creator = reference.ObjectImageCreator()"
   ]
  },
  {
   "cell_type": "code",
   "execution_count": null,
   "id": "637c32bd17732bc",
   "metadata": {
    "ExecuteTime": {
     "end_time": "2025-06-12T16:58:09.205088Z",
     "start_time": "2025-06-12T16:57:58.410393Z"
    }
   },
   "outputs": [],
   "source": [
    "# SYNOPSIS_TEXT 파일입출력(선택)\n",
    "with open(SYNOPSIS_TXT_PATH, \"r\", encoding=\"utf-8\") as f:\n",
    "    SYNOPSIS_TEXT = f.read()\n",
    "\n",
    "# 3. 시놉시스 분석 및 파싱\n",
    "analyzer.save_dir = os.path.join(REFERENCE_PATH, \"analyzer\")\n",
    "entity_dict_draft_list = analyzer.analyze(SYNOPSIS_TEXT)\n",
    "print(entity_dict_draft_list)\n"
   ]
  },
  {
   "cell_type": "code",
   "execution_count": null,
   "id": "437a4ff1",
   "metadata": {
    "ExecuteTime": {
     "end_time": "2025-06-12T17:00:21.487740Z",
     "start_time": "2025-06-12T16:58:09.217880Z"
    }
   },
   "outputs": [],
   "source": [
    "# 4. Creator들에게 base 디렉토리 설정\n",
    "character_creator.set_base_dir(REFERENCE_IMG_PATH)\n",
    "location_creator.set_base_dir(REFERENCE_IMG_PATH)\n",
    "object_creator.set_base_dir(REFERENCE_IMG_PATH)\n",
    "\n",
    "# 5. 이미지 생성 및 결과 수집\n",
    "entity_list = []\n",
    "# results를 txt 파일로 저장\n",
    "with open(REFERENCE_ENTITY_LIST_PATH, \"w\", encoding=\"utf-8\") as f:\n",
    "    for entity in entity_dict_draft_list:\n",
    "        type_ = entity.get(\"type\")\n",
    "        name = entity.get(\"name\")\n",
    "        description = entity.get(\"description\")\n",
    "\n",
    "        if name == \"기타\":\n",
    "            result = (type_, name, description, None)\n",
    "        elif type_ == \"character\":\n",
    "            result = character_creator.create(type_, name, description)\n",
    "        elif type_ == \"location\":\n",
    "            result = location_creator.create(type_, name, description)\n",
    "        elif type_ == \"object\":\n",
    "            result = object_creator.create(type_, name, description)\n",
    "        else:\n",
    "            result = (type_, name, description, None)\n",
    "\n",
    "        print(f\"[RESULT] {result}\")  # 터미널 출력\n",
    "        entity_list.append(result)\n",
    "        f.write(str(result) + \"\\n\")\n"
   ]
  },
  {
   "cell_type": "markdown",
   "id": "58e43842a3623c2",
   "metadata": {},
   "source": [
    "엔티티 이미지 생성 8분 17초 소요"
   ]
  },
  {
   "cell_type": "code",
   "execution_count": null,
   "id": "656fafc8912e20a8",
   "metadata": {
    "ExecuteTime": {
     "end_time": "2025-06-12T17:00:21.554632Z",
     "start_time": "2025-06-12T17:00:21.552445Z"
    }
   },
   "outputs": [],
   "source": [
    "print(entity_list)"
   ]
  },
  {
   "cell_type": "markdown",
   "id": "754e7e210859bd54",
   "metadata": {},
   "source": [
    "## 씬/컷 분리부 테스트"
   ]
  },
  {
   "cell_type": "code",
   "execution_count": null,
   "id": "58ae480f",
   "metadata": {
    "ExecuteTime": {
     "end_time": "2025-06-12T17:11:46.953920Z",
     "start_time": "2025-06-12T17:11:46.948185Z"
    }
   },
   "outputs": [],
   "source": [
    "def load_entity_list(file_path):\n",
    "    entities = []\n",
    "    with open(file_path, \"r\", encoding=\"utf-8\") as f:\n",
    "        for line in f:\n",
    "            # 빈 줄 건너뛰기\n",
    "            if not line.strip():\n",
    "                continue\n",
    "            # 문자열을 튜플로 안전하게 변환\n",
    "            try:\n",
    "                entity_tuple = eval(line.strip())\n",
    "                entities.append(entity_tuple)\n",
    "            except Exception as e:\n",
    "                print(f\"라인 파싱 중 오류 발생: {e}\")\n",
    "                continue\n",
    "    return entities\n",
    "\n",
    "\n",
    "# 엔티티 리스트 로드\n",
    "entity_list = load_entity_list(REFERENCE_ENTITY_LIST_PATH)\n",
    "print(entity_list)"
   ]
  },
  {
   "cell_type": "code",
   "execution_count": null,
   "id": "fda1952e3646bc43",
   "metadata": {
    "ExecuteTime": {
     "end_time": "2025-06-12T17:12:05.553411Z",
     "start_time": "2025-06-12T17:11:48.824128Z"
    }
   },
   "outputs": [],
   "source": [
    "# 예시 스토리\n",
    "with open(STORY_TXT_PATH, \"r\", encoding=\"utf-8\") as f:\n",
    "    STORY_TEXT = f.read()\n",
    "\n",
    "scene_gen = story.SceneGenerator()\n",
    "scenes = scene_gen.generate_scenes(STORY_TEXT)\n",
    "\n",
    "os.makedirs(STORY_PATH, exist_ok=True)\n",
    "with open(os.path.join(STORY_PATH, \"scene.txt\"), \"w\", encoding=\"utf-8\") as f:\n",
    "    for scene in scenes:\n",
    "        print(scene)\n",
    "        f.write(str(scene) + \"\\n\")\n"
   ]
  },
  {
   "cell_type": "code",
   "execution_count": null,
   "id": "243e4b03398ff706",
   "metadata": {
    "ExecuteTime": {
     "end_time": "2025-06-12T17:12:48.466463Z",
     "start_time": "2025-06-12T17:12:05.565518Z"
    }
   },
   "outputs": [],
   "source": [
    "cut_generator = story.CutGenerator()\n",
    "cut_list = list()\n",
    "\n",
    "with open(STORY_CUT_LIST_PATH, \"w\", encoding=\"utf-8\") as f:\n",
    "    for scene in scenes:\n",
    "        cut = cut_generator.cut_scene(scene, entity_list, story_text=STORY_TEXT)\n",
    "        cut_list.append(cut)\n",
    "        print(cut)\n",
    "        f.write(str(cut) + \"\\n\")\n"
   ]
  },
  {
   "cell_type": "markdown",
   "id": "2f25de3545359c55",
   "metadata": {},
   "source": [
    "컷생성 1분 2초 소요"
   ]
  },
  {
   "cell_type": "code",
   "execution_count": null,
   "id": "f42ae46c59dd292f",
   "metadata": {
    "ExecuteTime": {
     "end_time": "2025-06-12T17:13:04.117743Z",
     "start_time": "2025-06-12T17:13:04.114570Z"
    }
   },
   "outputs": [],
   "source": [
    "# print(scenes)\n",
    "print(cut_list)"
   ]
  },
  {
   "cell_type": "markdown",
   "id": "9e1c81b67a825986",
   "metadata": {},
   "source": [
    "## 비디오 생성부 테스트"
   ]
  },
  {
   "cell_type": "code",
   "execution_count": null,
   "id": "cd487c29d1c9d523",
   "metadata": {
    "ExecuteTime": {
     "end_time": "2025-06-12T17:43:15.328732Z",
     "start_time": "2025-06-12T17:43:15.325581Z"
    }
   },
   "outputs": [],
   "source": [
    "os.makedirs(CUT_IMG_PATH, exist_ok=True)"
   ]
  },
  {
   "cell_type": "code",
   "execution_count": null,
   "id": "45ac948c",
   "metadata": {
    "ExecuteTime": {
     "end_time": "2025-06-12T17:43:20.499442Z",
     "start_time": "2025-06-12T17:43:20.494931Z"
    }
   },
   "outputs": [],
   "source": [
    "# 파일에서 entity_list, cut_list 로드\n",
    "\n",
    "def load_entity_list(file_path):\n",
    "    entities = []\n",
    "    with open(file_path, \"r\", encoding=\"utf-8\") as f:\n",
    "        for line in f:\n",
    "            # 빈 줄 건너뛰기\n",
    "            if not line.strip():\n",
    "                continue\n",
    "            # 문자열을 튜플로 안전하게 변환\n",
    "            try:\n",
    "                entity_tuple = eval(line.strip())\n",
    "                entities.append(entity_tuple)\n",
    "            except Exception as e:\n",
    "                print(f\"라인 파싱 중 오류 발생: {e}\")\n",
    "                continue\n",
    "    return entities\n",
    "\n",
    "\n",
    "from ast import literal_eval\n",
    "\n",
    "\n",
    "def load_cut_list(file_path):\n",
    "    cuts_by_scene = []\n",
    "    with open(file_path, \"r\", encoding=\"utf-8\") as f:\n",
    "        for line in f:\n",
    "            # 빈 줄 건너뛰기\n",
    "            if not line.strip():\n",
    "                continue\n",
    "            try:\n",
    "                # ast.literal_eval을 사용하여 더 안전하게 파싱\n",
    "                scene_cuts = literal_eval(line.strip())\n",
    "                cuts_by_scene.append(scene_cuts)\n",
    "            except Exception as e:\n",
    "                print(f\"파싱 중 오류 발생: {e}\")\n",
    "                continue\n",
    "    return cuts_by_scene"
   ]
  },
  {
   "cell_type": "code",
   "execution_count": null,
   "id": "98b5564e",
   "metadata": {
    "ExecuteTime": {
     "end_time": "2025-06-12T17:43:22.393347Z",
     "start_time": "2025-06-12T17:43:22.388469Z"
    }
   },
   "outputs": [],
   "source": [
    "# 엔티티 리스트 로드\n",
    "entity_list = load_entity_list(REFERENCE_ENTITY_LIST_PATH)\n",
    "print(entity_list)\n",
    "\n",
    "# 컷 리스트 로드\n",
    "cut_list = load_cut_list(STORY_CUT_LIST_PATH)\n",
    "print(cut_list)"
   ]
  },
  {
   "cell_type": "code",
   "execution_count": null,
   "id": "3aff63c48b4c51d6",
   "metadata": {
    "ExecuteTime": {
     "end_time": "2025-06-12T17:32:35.771777Z",
     "start_time": "2025-06-12T17:13:09.765459Z"
    }
   },
   "outputs": [],
   "source": [
    "scene_num = 1\n",
    "for scene in cut_list:\n",
    "    cut_num = 1\n",
    "    for cut in scene:\n",
    "        cut_image_generator = video.CutImageGenerator(scene_num=scene_num, cut=cut, output_path=CUT_IMG_PATH,\n",
    "                                                      entity_image_path=REFERENCE_IMG_PATH, entity=entity_list, ai_model = \"gpt-image-1\")\n",
    "        filename = cut_image_generator.execute()\n",
    "        print(f\"save {filename}\")\n",
    "    scene_num += 1"
   ]
  },
  {
   "cell_type": "code",
   "execution_count": null,
   "id": "e744de62c6083e63",
   "metadata": {
    "ExecuteTime": {
     "end_time": "2025-06-12T17:43:26.090502Z",
     "start_time": "2025-06-12T17:43:26.084374Z"
    }
   },
   "outputs": [],
   "source": [
    "image_paths = []\n",
    "for filename in os.listdir(CUT_IMG_PATH):\n",
    "    if filename.lower().endswith('.png') or filename.lower().endswith('.jpg'):  # 대소문자 구분 없이 .png 확장자 확인\n",
    "        image_paths.append(os.path.join(CUT_IMG_PATH, filename))\n",
    "image_paths.sort()\n",
    "image_paths"
   ]
  },
  {
   "cell_type": "code",
   "execution_count": null,
   "id": "3a8fd60d726c739d",
   "metadata": {
    "ExecuteTime": {
     "end_time": "2025-06-12T18:22:17.991582Z",
     "start_time": "2025-06-12T18:19:36.991605Z"
    }
   },
   "outputs": [],
   "source": [
    "video_generator = video.VideoGenerator(cut_list, VIDEO_OUTPUT_PATH, cut_image_list=image_paths)\n",
    "video_generator.execute()"
   ]
  },
  {
   "cell_type": "code",
   "execution_count": null,
   "id": "faf34b5a",
   "metadata": {
    "ExecuteTime": {
     "end_time": "2025-06-12T18:24:07.986666Z",
     "start_time": "2025-06-12T18:24:07.978742Z"
    }
   },
   "outputs": [],
   "source": [
    "video_clip_path_list = []\n",
    "for filename in os.listdir(VIDEO_OUTPUT_PATH):\n",
    "    if filename.lower().endswith('.mp4'):\n",
    "        video_clip_path_list.append(os.path.join(VIDEO_OUTPUT_PATH, filename))\n",
    "video_clip_path_list.sort()\n",
    "\n",
    "print(video_clip_path_list)"
   ]
  },
  {
   "cell_type": "code",
   "execution_count": null,
   "id": "e60e993f",
   "metadata": {
    "ExecuteTime": {
     "end_time": "2025-06-12T18:24:13.616428Z",
     "start_time": "2025-06-12T18:24:09.250348Z"
    }
   },
   "outputs": [],
   "source": [
    "import ffmpeg\n",
    "\n",
    "# results 리스트에 있는 비디오들을 합치기\n",
    "final_output = VIDEO_CONCAT_OUTPUT_PATH\n",
    "\n",
    "# 입력 비디오 스트림들을 준비\n",
    "input_streams = [ffmpeg.input(video_path) for video_path in video_clip_path_list]\n",
    "\n",
    "# 비디오 스트림들을 연결하고 출력\n",
    "ffmpeg.concat(*input_streams).output(final_output).run(overwrite_output=True)"
   ]
  },
  {
   "cell_type": "markdown",
   "id": "059130f1",
   "metadata": {},
   "source": [
    "## 멀티모달 엔티티 편집/추가 예시"
   ]
  },
  {
   "cell_type": "code",
   "execution_count": null,
   "id": "bc525dd1",
   "metadata": {},
   "outputs": [],
   "source": [
    "# 파일에서 entity_list, cut_list 로드\n",
    "\n",
    "def load_entity_list(file_path):\n",
    "    entities = []\n",
    "    with open(file_path, \"r\", encoding=\"utf-8\") as f:\n",
    "        for line in f:\n",
    "            # 빈 줄 건너뛰기\n",
    "            if not line.strip():\n",
    "                continue\n",
    "            # 문자열을 튜플로 안전하게 변환\n",
    "            try:\n",
    "                entity_tuple = eval(line.strip())\n",
    "                entities.append(entity_tuple)\n",
    "            except Exception as e:\n",
    "                print(f\"라인 파싱 중 오류 발생: {e}\")\n",
    "                continue\n",
    "    return entities\n",
    "\n",
    "\n",
    "from ast import literal_eval\n",
    "\n",
    "\n",
    "def load_cut_list(file_path):\n",
    "    cuts_by_scene = []\n",
    "    with open(file_path, \"r\", encoding=\"utf-8\") as f:\n",
    "        for line in f:\n",
    "            # 빈 줄 건너뛰기\n",
    "            if not line.strip():\n",
    "                continue\n",
    "            try:\n",
    "                # ast.literal_eval을 사용하여 더 안전하게 파싱\n",
    "                scene_cuts = literal_eval(line.strip())\n",
    "                cuts_by_scene.append(scene_cuts)\n",
    "            except Exception as e:\n",
    "                print(f\"파싱 중 오류 발생: {e}\")\n",
    "                continue\n",
    "    return cuts_by_scene"
   ]
  },
  {
   "cell_type": "code",
   "execution_count": null,
   "id": "b4c71f5f024443ee",
   "metadata": {},
   "outputs": [],
   "source": [
    "from consistentvideo.multimodal import EntityMultimodalEditor, edit_or_add_entity\n",
    "\n",
    "# 에디터 생성 (레퍼런스 이미지가 저장되는 경로를 그대로 사용)\n",
    "editor = EntityMultimodalEditor(entity_image_base_dir=REFERENCE_IMG_PATH)\n",
    "\n",
    "# 멀티모달 분석에 사용할 샘플 이미지 선택 (존재할 경우 첫 번째 이미지 사용)\n",
    "if os.path.exists(REFERENCE_IMG_PATH):\n",
    "    for fn in os.listdir(REFERENCE_IMG_PATH):\n",
    "        if fn.lower().endswith((\".png\", \".jpg\", \".jpeg\")):\n",
    "            sample_image = os.path.abspath(os.path.join(REFERENCE_IMG_PATH, fn))\n",
    "            break\n",
    "# sample_image = None\n",
    "\n",
    "# 엔티티 리스트 로드\n",
    "entity_list = load_entity_list(REFERENCE_ENTITY_LIST_PATH)\n",
    "print(entity_list)"
   ]
  },
  {
   "cell_type": "code",
   "execution_count": null,
   "id": "d569a2c0",
   "metadata": {},
   "outputs": [],
   "source": [
    "\n",
    "# 1) 엔티티 수정 예시: 0번 인덱스 엔티티를 이미지 분석(gpt-4.1)과 추가 프롬프트를 반영하여 설명 갱신 후,\n",
    "#    레퍼런스 이미지를 gpt-image-1로 재생성\n",
    "if entity_list:\n",
    "    entity_list = edit_or_add_entity(\n",
    "        entity_list,\n",
    "        operation=\"edit\",\n",
    "        editor=editor,\n",
    "        index=1,  # 수정할 엔티티 인덱스\n",
    "        name=None,  # 이름 변경이 필요하면 문자열 지정\n",
    "        description=\"\",\n",
    "        image_path=sample_image,  # 이미지가 없으면 None도 가능\n",
    "        # extra_prompt=\"추가 프롬프트: 자연광, 사실적인 질감\",\n",
    "    )\n",
    "    EntityMultimodalEditor.save_entity_list(REFERENCE_ENTITY_LIST_PATH, entity_list)\n",
    "    print(\"[Multimodal] 1번 엔티티 수정 완료:\", entity_list[1])\n"
   ]
  },
  {
   "cell_type": "code",
   "execution_count": null,
   "id": "69afd5ef",
   "metadata": {},
   "outputs": [],
   "source": [
    "\n",
    "# 2) 엔티티 추가 예시: 새로운 오브젝트를 이미지 분석(gpt-4.1)과 추가 프롬프트를 반영하여 추가하고,\n",
    "#    레퍼런스 이미지를 gpt-image-1로 생성\n",
    "entity_list = edit_or_add_entity(\n",
    "    entity_list,\n",
    "    operation=\"add\",\n",
    "    editor=editor,\n",
    "    type_=\"character\",  # character | location | object\n",
    "    name=\"테스트아코\",\n",
    "    # description=\"예시로 추가된 오브젝트\",\n",
    "    image_path=sample_image,\n",
    "    # extra_prompt=\"작고 둥근 형태\",\n",
    ")\n",
    "EntityMultimodalEditor.save_entity_list(REFERENCE_ENTITY_LIST_PATH, entity_list)\n",
    "print(\"[Multimodal] 새 엔티티 추가 완료:\", entity_list[-1])\n"
   ]
  }
 ],
 "metadata": {
  "kernelspec": {
   "display_name": "cavg",
   "language": "python",
   "name": "python3"
  },
  "language_info": {
   "codemirror_mode": {
    "name": "ipython",
    "version": 3
   },
   "file_extension": ".py",
   "mimetype": "text/x-python",
   "name": "python",
   "nbconvert_exporter": "python",
   "pygments_lexer": "ipython3",
   "version": "3.12.11"
  }
 },
 "nbformat": 4,
 "nbformat_minor": 5
}
