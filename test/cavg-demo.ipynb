{
 "cells": [
  {
   "cell_type": "markdown",
   "id": "ff12f472de127a62",
   "metadata": {},
   "source": [
    "### 기본설정"
   ]
  },
  {
   "cell_type": "code",
   "execution_count": 1,
   "id": "5045a2240fb67980",
   "metadata": {},
   "outputs": [],
   "source": [
    "import os\n",
    "import sys\n",
    "\n",
    "module_path = os.path.abspath(os.path.join('..'))\n",
    "if module_path not in sys.path:\n",
    "    sys.path.append(module_path)\n",
    "\n",
    "from consistentvideo import reference\n",
    "from consistentvideo import story\n",
    "from consistentvideo import video"
   ]
  },
  {
   "cell_type": "markdown",
   "id": "bfeebb57f2fd0d33",
   "metadata": {},
   "source": [
    "디렉토리 설정"
   ]
  },
  {
   "cell_type": "code",
   "execution_count": 10,
   "id": "4e5e8e84021c3b68",
   "metadata": {},
   "outputs": [],
   "source": [
    "# 디렉토리 설정\n",
    "# BASE_DIR = os.path.abspath(os.path.join('.'))\n",
    "# UPLOAD_DIR = os.path.join(BASE_DIR, \"uploads\")\n",
    "# os.makedirs(UPLOAD_DIR, exist_ok=True)\n",
    "# file_path = os.path.join(UPLOAD_DIR, \"컬투쇼버스.txt\")\n",
    "\n",
    "# 기본\n",
    "ENTITY_SET_NAME = \"컬투쇼버스1\"\n",
    "WORK_DIR = os.path.join(\"demo-file/\", ENTITY_SET_NAME)\n",
    "\n",
    "# 레퍼런스 생성부\n",
    "SYNOPSIS_TXT_PATH = \"demo-file/컬투쇼버스.txt\"  # SYNOPSIS_TEXT 파일입출력(선택)\n",
    "SYNOPSIS_TEXT = \"시놉시스 텍스트\"\n",
    "REFERENCE_PATH = os.path.join(WORK_DIR, \"reference\")\n",
    "REFERENCE_IMG_PATH = os.path.join(REFERENCE_PATH, \"images\")\n",
    "REFERENCE_ENTITY_LIST_PATH = os.path.join(REFERENCE_PATH, \"entity_list.txt\")\n",
    "\n",
    "# 씬/컷 분리부\n",
    "STORY_TXT_PATH = \"demo-file/컬투쇼버스.txt\"  # STORY_TEXT 파일입출력(선택)\n",
    "STORY_TEXT = \"스토리 텍스트\"\n",
    "STORY_PATH = os.path.join(WORK_DIR, \"story\")\n",
    "STORY_CUT_LIST_PATH = os.path.join(STORY_PATH, \"cut.txt\")\n",
    "\n",
    "# 비디오 생성부\n",
    "VIDEO_PATH = os.path.join(WORK_DIR, \"video\")\n",
    "CUT_IMG_PATH = os.path.join(VIDEO_PATH, \"cut-images\")\n",
    "VIDEO_OUTPUT_PATH = os.path.join(VIDEO_PATH, \"output\")\n",
    "VIDEO_CLIP_LIST_PATH = os.path.join(VIDEO_PATH, \"clip_file_list.txt\")\n",
    "VIDEO_CONCAT_OUTPUT_PATH = os.path.join(VIDEO_PATH, f\"{ENTITY_SET_NAME}_concat_video.mp4\")\n",
    "\n",
    "os.makedirs(WORK_DIR, exist_ok=True)"
   ]
  },
  {
   "cell_type": "markdown",
   "id": "5b211cbf2b69cd52",
   "metadata": {},
   "source": [
    "## 레퍼런스 생성부 테스트"
   ]
  },
  {
   "cell_type": "code",
   "execution_count": 3,
   "id": "initial_id",
   "metadata": {
    "ExecuteTime": {
     "end_time": "2025-06-05T21:27:52.797495Z",
     "start_time": "2025-06-05T21:27:52.724702Z"
    }
   },
   "outputs": [],
   "source": [
    "# 클래스 인스턴스\n",
    "analyzer = reference.SynopsisAnalyzer()\n",
    "character_creator = reference.CharacterImageCreator()\n",
    "location_creator = reference.LocationImageCreator()\n",
    "object_creator = reference.ObjectImageCreator()"
   ]
  },
  {
   "cell_type": "code",
   "execution_count": 4,
   "id": "637c32bd17732bc",
   "metadata": {
    "ExecuteTime": {
     "end_time": "2025-06-05T21:32:43.736290Z",
     "start_time": "2025-06-05T21:27:53.739195Z"
    }
   },
   "outputs": [],
   "source": [
    "# SYNOPSIS_TEXT 파일입출력(선택)\n",
    "with open(SYNOPSIS_TXT_PATH, \"r\", encoding=\"utf-8\") as f:\n",
    "    SYNOPSIS_TEXT = f.read()\n",
    "\n",
    "# 3. 시놉시스 분석 및 파싱\n",
    "analyzer.save_dir = os.path.join(REFERENCE_PATH, \"analyzer\")\n",
    "entity_dict_draft_list = analyzer.analyze(SYNOPSIS_TEXT)\n"
   ]
  },
  {
   "cell_type": "code",
   "execution_count": null,
   "id": "437a4ff1",
   "metadata": {},
   "outputs": [],
   "source": [
    "# 4. Creator들에게 base 디렉토리 설정\n",
    "character_creator.set_base_dir(REFERENCE_IMG_PATH)\n",
    "location_creator.set_base_dir(REFERENCE_IMG_PATH)\n",
    "object_creator.set_base_dir(REFERENCE_IMG_PATH)\n",
    "\n",
    "# 5. 이미지 생성 및 결과 수집\n",
    "entity_list = []\n",
    "# results를 txt 파일로 저장\n",
    "with open(REFERENCE_ENTITY_LIST_PATH, \"w\", encoding=\"utf-8\") as f:\n",
    "    for entity in entity_dict_draft_list:\n",
    "        type_ = entity.get(\"type\")\n",
    "        name = entity.get(\"name\")\n",
    "        description = entity.get(\"description\")\n",
    "\n",
    "        if name == \"기타\":\n",
    "            result = (type_, name, description, None)\n",
    "        elif type_ == \"character\":\n",
    "            result = character_creator.create(type_, name, description)\n",
    "        elif type_ == \"location\":\n",
    "            result = location_creator.create(type_, name, description)\n",
    "        elif type_ == \"object\":\n",
    "            result = object_creator.create(type_, name, description)\n",
    "        else:\n",
    "            result = (type_, name, description, None)\n",
    "\n",
    "        print(f\"[RESULT] {result}\")  # 터미널 출력\n",
    "        entity_list.append(result)\n",
    "        f.write(str(result) + \"\\n\")\n"
   ]
  },
  {
   "cell_type": "code",
   "execution_count": null,
   "id": "656fafc8912e20a8",
   "metadata": {
    "ExecuteTime": {
     "end_time": "2025-06-05T21:33:02.103132Z",
     "start_time": "2025-06-05T21:33:02.099524Z"
    }
   },
   "outputs": [],
   "source": [
    "print(entity_list)"
   ]
  },
  {
   "cell_type": "markdown",
   "id": "754e7e210859bd54",
   "metadata": {},
   "source": [
    "## 씬/컷 분리부 테스트"
   ]
  },
  {
   "cell_type": "code",
   "execution_count": null,
   "id": "58ae480f",
   "metadata": {},
   "outputs": [],
   "source": [
    "def load_entity_list(file_path):\n",
    "    entities = []\n",
    "    with open(file_path, \"r\", encoding=\"utf-8\") as f:\n",
    "        for line in f:\n",
    "            # 빈 줄 건너뛰기\n",
    "            if not line.strip():\n",
    "                continue\n",
    "            # 문자열을 튜플로 안전하게 변환\n",
    "            try:\n",
    "                entity_tuple = eval(line.strip())\n",
    "                entities.append(entity_tuple)\n",
    "            except Exception as e:\n",
    "                print(f\"라인 파싱 중 오류 발생: {e}\")\n",
    "                continue\n",
    "    return entities\n",
    "\n",
    "\n",
    "# 엔티티 리스트 로드\n",
    "entity_list = load_entity_list(REFERENCE_ENTITY_LIST_PATH)\n",
    "print(entity_list)"
   ]
  },
  {
   "cell_type": "code",
   "execution_count": null,
   "id": "fda1952e3646bc43",
   "metadata": {
    "ExecuteTime": {
     "end_time": "2025-06-05T21:48:54.985090Z",
     "start_time": "2025-06-05T21:48:43.776329Z"
    }
   },
   "outputs": [],
   "source": [
    "# 예시 스토리\n",
    "with open(STORY_TXT_PATH, \"r\", encoding=\"utf-8\") as f:\n",
    "    STORY_TEXT = f.read()\n",
    "\n",
    "scene_gen = story.SceneGenerator()\n",
    "scenes = scene_gen.generate_scenes(STORY_TEXT)\n",
    "\n",
    "os.makedirs(STORY_PATH, exist_ok=True)\n",
    "with open(os.path.join(STORY_PATH, \"scene.txt\"), \"w\", encoding=\"utf-8\") as f:\n",
    "    for scene in scenes:\n",
    "        print(scene)\n",
    "        f.write(str(scene) + \"\\n\")\n"
   ]
  },
  {
   "cell_type": "code",
   "execution_count": null,
   "id": "243e4b03398ff706",
   "metadata": {
    "ExecuteTime": {
     "end_time": "2025-06-05T23:13:54.936052Z",
     "start_time": "2025-06-05T23:13:21.072607Z"
    }
   },
   "outputs": [],
   "source": [
    "cut_generator = story.CutGenerator()\n",
    "cut_list = list()\n",
    "\n",
    "with open(STORY_CUT_LIST_PATH, \"w\", encoding=\"utf-8\") as f:\n",
    "    for scene in scenes:\n",
    "        cut = cut_generator.cut_scene(scene, entity_list)\n",
    "        cut_list.append(cut)\n",
    "        print(cut)\n",
    "        f.write(str(cut) + \"\\n\")\n"
   ]
  },
  {
   "cell_type": "code",
   "execution_count": null,
   "id": "f42ae46c59dd292f",
   "metadata": {
    "ExecuteTime": {
     "end_time": "2025-06-05T23:34:05.828829Z",
     "start_time": "2025-06-05T23:34:05.823490Z"
    }
   },
   "outputs": [],
   "source": [
    "# print(scenes)\n",
    "print(cut_list)"
   ]
  },
  {
   "cell_type": "markdown",
   "id": "9e1c81b67a825986",
   "metadata": {},
   "source": [
    "## 비디오 생성부 테스트"
   ]
  },
  {
   "cell_type": "code",
   "execution_count": 3,
   "id": "cd487c29d1c9d523",
   "metadata": {
    "ExecuteTime": {
     "end_time": "2025-06-05T23:45:42.882098Z",
     "start_time": "2025-06-05T23:45:42.788767Z"
    }
   },
   "outputs": [],
   "source": [
    "os.makedirs(CUT_IMG_PATH, exist_ok=True)"
   ]
  },
  {
   "cell_type": "code",
   "execution_count": 4,
   "id": "45ac948c",
   "metadata": {},
   "outputs": [],
   "source": [
    "# 파일에서 entity_list, cut_list 로드\n",
    "\n",
    "def load_entity_list(file_path):\n",
    "    entities = []\n",
    "    with open(file_path, \"r\", encoding=\"utf-8\") as f:\n",
    "        for line in f:\n",
    "            # 빈 줄 건너뛰기\n",
    "            if not line.strip():\n",
    "                continue\n",
    "            # 문자열을 튜플로 안전하게 변환\n",
    "            try:\n",
    "                entity_tuple = eval(line.strip())\n",
    "                entities.append(entity_tuple)\n",
    "            except Exception as e:\n",
    "                print(f\"라인 파싱 중 오류 발생: {e}\")\n",
    "                continue\n",
    "    return entities\n",
    "\n",
    "\n",
    "from ast import literal_eval\n",
    "\n",
    "\n",
    "def load_cut_list(file_path):\n",
    "    cuts_by_scene = []\n",
    "    with open(file_path, \"r\", encoding=\"utf-8\") as f:\n",
    "        for line in f:\n",
    "            # 빈 줄 건너뛰기\n",
    "            if not line.strip():\n",
    "                continue\n",
    "            try:\n",
    "                # ast.literal_eval을 사용하여 더 안전하게 파싱\n",
    "                scene_cuts = literal_eval(line.strip())\n",
    "                cuts_by_scene.append(scene_cuts)\n",
    "            except Exception as e:\n",
    "                print(f\"파싱 중 오류 발생: {e}\")\n",
    "                continue\n",
    "    return cuts_by_scene"
   ]
  },
  {
   "cell_type": "code",
   "execution_count": null,
   "id": "98b5564e",
   "metadata": {},
   "outputs": [],
   "source": [
    "# 엔티티 리스트 로드\n",
    "entity_list = load_entity_list(REFERENCE_ENTITY_LIST_PATH)\n",
    "print(entity_list)\n",
    "\n",
    "# 컷 리스트 로드\n",
    "cut_list = load_cut_list(STORY_CUT_LIST_PATH)\n",
    "print(cut_list)"
   ]
  },
  {
   "cell_type": "code",
   "execution_count": null,
   "id": "3aff63c48b4c51d6",
   "metadata": {
    "ExecuteTime": {
     "end_time": "2025-06-06T00:16:16.692593Z",
     "start_time": "2025-06-06T00:10:25.938216Z"
    }
   },
   "outputs": [],
   "source": [
    "scene_num = 1\n",
    "for scene in cut_list:\n",
    "    cut_num = 1\n",
    "    for cut in scene:\n",
    "        cut_image_generator = video.CutImageGenerator(scene_num=scene_num, cut=cut, output_path=CUT_IMG_PATH, entity_image_path=REFERENCE_IMG_PATH, entity=entity_list)\n",
    "        filename = cut_image_generator.execute()\n",
    "        print(f\"save {filename}\")\n",
    "    scene_num += 1"
   ]
  },
  {
   "cell_type": "code",
   "execution_count": null,
   "id": "e744de62c6083e63",
   "metadata": {
    "ExecuteTime": {
     "end_time": "2025-06-06T00:30:03.197851Z",
     "start_time": "2025-06-06T00:30:03.185337Z"
    }
   },
   "outputs": [],
   "source": [
    "image_paths = []\n",
    "for filename in os.listdir(CUT_IMG_PATH):\n",
    "    if filename.lower().endswith('.png') or filename.lower().endswith('.jpg'):  # 대소문자 구분 없이 .png 확장자 확인\n",
    "        image_paths.append(os.path.join(CUT_IMG_PATH, filename))\n",
    "image_paths.sort()\n",
    "image_paths"
   ]
  },
  {
   "cell_type": "code",
   "execution_count": null,
   "id": "3a8fd60d726c739d",
   "metadata": {},
   "outputs": [],
   "source": [
    "video_generator = video.VideoGenerator(cut_list, VIDEO_OUTPUT_PATH, cut_image_list=image_paths)\n",
    "video_generator.execute()"
   ]
  },
  {
   "cell_type": "code",
   "execution_count": null,
   "id": "faf34b5a",
   "metadata": {},
   "outputs": [],
   "source": [
    "video_clip_path_list = []\n",
    "for filename in os.listdir(VIDEO_OUTPUT_PATH):\n",
    "    if filename.lower().endswith('.mp4'):\n",
    "        video_clip_path_list.append(os.path.join(VIDEO_OUTPUT_PATH, filename))\n",
    "video_clip_path_list.sort()\n",
    "\n",
    "print(video_clip_path_list)"
   ]
  },
  {
   "cell_type": "code",
   "execution_count": null,
   "id": "e60e993f",
   "metadata": {},
   "outputs": [],
   "source": [
    "import ffmpeg\n",
    "\n",
    "# results 리스트에 있는 비디오들을 합치기\n",
    "final_output = VIDEO_CONCAT_OUTPUT_PATH\n",
    "\n",
    "# 입력 비디오 스트림들을 준비\n",
    "input_streams = [ffmpeg.input(video_path) for video_path in video_clip_path_list]\n",
    "\n",
    "# 비디오 스트림들을 연결하고 출력\n",
    "ffmpeg.concat(*input_streams).output(final_output).run(overwrite_output=True)"
   ]
  }
 ],
 "metadata": {
  "kernelspec": {
   "display_name": "cavg",
   "language": "python",
   "name": "python3"
  },
  "language_info": {
   "codemirror_mode": {
    "name": "ipython",
    "version": 3
   },
   "file_extension": ".py",
   "mimetype": "text/x-python",
   "name": "python",
   "nbconvert_exporter": "python",
   "pygments_lexer": "ipython3",
   "version": "3.12.11"
  }
 },
 "nbformat": 4,
 "nbformat_minor": 5
}
