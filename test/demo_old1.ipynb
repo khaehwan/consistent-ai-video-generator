{
 "cells": [
  {
   "metadata": {
    "ExecuteTime": {
     "end_time": "2025-06-05T21:27:51.992221Z",
     "start_time": "2025-06-05T21:27:51.988728Z"
    }
   },
   "cell_type": "code",
   "source": [
    "import os\n",
    "import sys\n",
    "\n",
    "module_path = os.path.abspath(os.path.join('..'))\n",
    "if module_path not in sys.path:\n",
    "    sys.path.append(module_path)"
   ],
   "id": "78457002fd5abec5",
   "outputs": [],
   "execution_count": 1
  },
  {
   "metadata": {},
   "cell_type": "markdown",
   "source": "## 레퍼런스 생성부 테스트",
   "id": "5b211cbf2b69cd52"
  },
  {
   "metadata": {
    "ExecuteTime": {
     "end_time": "2025-06-05T21:27:52.717484Z",
     "start_time": "2025-06-05T21:27:52.437853Z"
    }
   },
   "cell_type": "code",
   "source": [
    "from consistentvideo import reference\n",
    "import json"
   ],
   "id": "85014f93393b9da9",
   "outputs": [],
   "execution_count": 2
  },
  {
   "metadata": {
    "ExecuteTime": {
     "end_time": "2025-06-05T21:27:52.797495Z",
     "start_time": "2025-06-05T21:27:52.724702Z"
    }
   },
   "cell_type": "code",
   "source": [
    "# 디렉토리 설정\n",
    "BASE_DIR = os.path.abspath(os.path.join('.'))\n",
    "UPLOAD_DIR = os.path.join(BASE_DIR, \"uploads\")\n",
    "os.makedirs(UPLOAD_DIR, exist_ok=True)\n",
    "\n",
    "# 클래스 인스턴스\n",
    "analyzer = reference.SynopsisAnalyzer()\n",
    "character_creator = reference.CharacterImageCreator()\n",
    "location_creator = reference.LocationImageCreator()\n",
    "object_creator = reference.ObjectImageCreator()"
   ],
   "id": "initial_id",
   "outputs": [],
   "execution_count": 3
  },
  {
   "metadata": {
    "ExecuteTime": {
     "end_time": "2025-06-05T21:27:52.948781Z",
     "start_time": "2025-06-05T21:27:52.946435Z"
    }
   },
   "cell_type": "code",
   "source": "file_path = os.path.join(UPLOAD_DIR, \"컬투쇼버스.txt\")",
   "id": "2706ee6ef0c93eac",
   "outputs": [],
   "execution_count": 4
  },
  {
   "metadata": {
    "ExecuteTime": {
     "end_time": "2025-06-05T21:32:43.736290Z",
     "start_time": "2025-06-05T21:27:53.739195Z"
    }
   },
   "cell_type": "code",
   "source": [
    "#  # 2. JSON → 문자열로 변환\n",
    "# with open(file_path, \"r\", encoding=\"utf-8\") as f:\n",
    "#     json_data = json.load(f)\n",
    "# synopsis_text = json.dumps(json_data, ensure_ascii=False, indent=2)\n",
    "with open(file_path, \"r\", encoding=\"utf-8\") as f:\n",
    "    synopsis_text = f.read()\n",
    "\n",
    "# 3. 시놉시스 분석 및 파싱\n",
    "base_name = os.path.basename(file_path).split(\".\")[0]\n",
    "entity_list = analyzer.analyze(synopsis_text, original_filename=os.path.basename(file_path))\n",
    "\n",
    "# 4. Creator들에게 base 디렉토리 설정\n",
    "character_creator.set_base_dir(base_name)\n",
    "location_creator.set_base_dir(base_name)\n",
    "object_creator.set_base_dir(base_name)\n",
    "\n",
    "# 5. 이미지 생성 및 결과 수집\n",
    "results = []\n",
    "for entity in entity_list:\n",
    "    type_ = entity.get(\"type\")\n",
    "    name = entity.get(\"name\")\n",
    "    description = entity.get(\"description\")\n",
    "\n",
    "    if name == \"기타\":\n",
    "        result = (type_, name, description, None)\n",
    "    elif type_ == \"character\":\n",
    "        result = character_creator.create(type_, name, description)\n",
    "    elif type_ == \"location\":\n",
    "        result = location_creator.create(type_, name, description)\n",
    "    elif type_ == \"object\":\n",
    "        result = object_creator.create(type_, name, description)\n",
    "    else:\n",
    "        result = (type_, name, description, None)\n",
    "\n",
    "    print(f\"[RESULT] {result}\")  # 터미널 출력\n",
    "    results.append(result)\n"
   ],
   "id": "637c32bd17732bc",
   "outputs": [
    {
     "name": "stdout",
     "output_type": "stream",
     "text": [
      "[RESULT] ('character', '미상(할아버지)', '{\"연령대\": \"70~80대\", \"인종\": \"동아시아(한국인)\", \"성별\": \"남성\", \"헤어 스타일\": \"짧은 흰머리\", \"헤어 컬러\": \"백발\", \"신장\": \"165cm(추정)\", \"체중\": \"60kg(추정)\", \"체형\": \"마른 체형\", \"패션 스타일\": \"평범한 노인 복장(점퍼, 모자 등)\", \"추가 특징\": \"귀가 어두움, 고집스러움, 장난기 많음, 반복적으로 벨을 누름, 시치미 뗌\"}', '미상_할아버지__front.png')\n",
      "[RESULT] ('character', '미상(버스기사)', '{\"연령대\": \"40~50대\", \"인종\": \"동아시아(한국인)\", \"성별\": \"남성\", \"헤어 스타일\": \"짧은 머리\", \"헤어 컬러\": \"검정 또는 흑갈색\", \"신장\": \"175cm(추정)\", \"체중\": \"75kg(추정)\", \"체형\": \"보통\", \"패션 스타일\": \"버스기사 유니폼\", \"추가 특징\": \"인내심 많으나 점점 짜증남, 유머러스함, 승객과 직접 대화\"}', '미상_버스기사__front.png')\n",
      "[RESULT] ('character', '미상(화자/승객)', '{\"연령대\": \"20~30대(추정)\", \"인종\": \"동아시아(한국인)\", \"성별\": \"남성(임의 설정)\", \"헤어 스타일\": \"단정한 짧은 머리\", \"헤어 컬러\": \"검정\", \"신장\": \"175cm(추정)\", \"체중\": \"68kg(추정)\", \"체형\": \"보통\", \"패션 스타일\": \"캐주얼\", \"추가 특징\": \"관찰자, 조용히 상황을 지켜봄, 할아버지의 장난에 휘말림\"}', '미상_화자_승객__front.png')\n",
      "[RESULT] ('character', '기타', '{\"기타 목록\": [\"없음\"]}', None)\n",
      "[RESULT] ('location', '시내버스 내부', '{\"실내외\": \"실내\", \"공간 특징\": \"좌석이 많고, 아침 시간대라 승객 없음, 조용함\", \"추가 설명\": \"버스 내부, 운전석과 승객석, 정류장마다 정차, 종점까지 운행\"}', '시내버스_내부_front.png')\n",
      "[RESULT] ('location', '기타', '{\"기타 목록\": [\"버스 정류장(실외\", \"간단한 표지판과 벤치)\"]}', None)\n",
      "[RESULT] ('object', '정보', '{}', '정보_front.png')\n",
      "[RESULT] ('object', '버스 벨', '{\"크기\": \"손가락 한 마디 크기\", \"색깔\": \"빨간색(버튼), 은색(테두리)\", \"형체\": \"원형 버튼\", \"카테고리\": \"기계/버스 부품\", \"태그\": \"정차, 호출, 반복, 오작동(아님), 장난\"}', '버스_벨_front.png')\n",
      "[RESULT] ('object', '시내버스', '{\"크기\": \"대형(길이 약 10m, 40인승)\", \"색깔\": \"파란색(서울 시내버스 기준, 임의)\", \"형체\": \"직사각형, 창문이 큼\", \"카테고리\": \"교통수단\", \"태그\": \"대중교통, 정류장, 종점, 기사, 승객\"}', '시내버스_front.png')\n",
      "[RESULT] ('object', '기타', '{\"기타 목록\": [\"승차권(작은 종이, 임의)\", \"기사님 마이크(작고 검정색, 안내방송용))\"]}', None)\n"
     ]
    }
   ],
   "execution_count": 5
  },
  {
   "metadata": {
    "ExecuteTime": {
     "end_time": "2025-06-05T21:33:02.103132Z",
     "start_time": "2025-06-05T21:33:02.099524Z"
    }
   },
   "cell_type": "code",
   "source": "print(results)",
   "id": "656fafc8912e20a8",
   "outputs": [
    {
     "name": "stdout",
     "output_type": "stream",
     "text": [
      "[('character', '미상(할아버지)', '{\"연령대\": \"70~80대\", \"인종\": \"동아시아(한국인)\", \"성별\": \"남성\", \"헤어 스타일\": \"짧은 흰머리\", \"헤어 컬러\": \"백발\", \"신장\": \"165cm(추정)\", \"체중\": \"60kg(추정)\", \"체형\": \"마른 체형\", \"패션 스타일\": \"평범한 노인 복장(점퍼, 모자 등)\", \"추가 특징\": \"귀가 어두움, 고집스러움, 장난기 많음, 반복적으로 벨을 누름, 시치미 뗌\"}', '미상_할아버지__front.png'), ('character', '미상(버스기사)', '{\"연령대\": \"40~50대\", \"인종\": \"동아시아(한국인)\", \"성별\": \"남성\", \"헤어 스타일\": \"짧은 머리\", \"헤어 컬러\": \"검정 또는 흑갈색\", \"신장\": \"175cm(추정)\", \"체중\": \"75kg(추정)\", \"체형\": \"보통\", \"패션 스타일\": \"버스기사 유니폼\", \"추가 특징\": \"인내심 많으나 점점 짜증남, 유머러스함, 승객과 직접 대화\"}', '미상_버스기사__front.png'), ('character', '미상(화자/승객)', '{\"연령대\": \"20~30대(추정)\", \"인종\": \"동아시아(한국인)\", \"성별\": \"남성(임의 설정)\", \"헤어 스타일\": \"단정한 짧은 머리\", \"헤어 컬러\": \"검정\", \"신장\": \"175cm(추정)\", \"체중\": \"68kg(추정)\", \"체형\": \"보통\", \"패션 스타일\": \"캐주얼\", \"추가 특징\": \"관찰자, 조용히 상황을 지켜봄, 할아버지의 장난에 휘말림\"}', '미상_화자_승객__front.png'), ('character', '기타', '{\"기타 목록\": [\"없음\"]}', None), ('location', '시내버스 내부', '{\"실내외\": \"실내\", \"공간 특징\": \"좌석이 많고, 아침 시간대라 승객 없음, 조용함\", \"추가 설명\": \"버스 내부, 운전석과 승객석, 정류장마다 정차, 종점까지 운행\"}', '시내버스_내부_front.png'), ('location', '기타', '{\"기타 목록\": [\"버스 정류장(실외\", \"간단한 표지판과 벤치)\"]}', None), ('object', '정보', '{}', '정보_front.png'), ('object', '버스 벨', '{\"크기\": \"손가락 한 마디 크기\", \"색깔\": \"빨간색(버튼), 은색(테두리)\", \"형체\": \"원형 버튼\", \"카테고리\": \"기계/버스 부품\", \"태그\": \"정차, 호출, 반복, 오작동(아님), 장난\"}', '버스_벨_front.png'), ('object', '시내버스', '{\"크기\": \"대형(길이 약 10m, 40인승)\", \"색깔\": \"파란색(서울 시내버스 기준, 임의)\", \"형체\": \"직사각형, 창문이 큼\", \"카테고리\": \"교통수단\", \"태그\": \"대중교통, 정류장, 종점, 기사, 승객\"}', '시내버스_front.png'), ('object', '기타', '{\"기타 목록\": [\"승차권(작은 종이, 임의)\", \"기사님 마이크(작고 검정색, 안내방송용))\"]}', None)]\n"
     ]
    }
   ],
   "execution_count": 8
  },
  {
   "metadata": {},
   "cell_type": "markdown",
   "source": "## 씬/컷 분리부 테스트",
   "id": "754e7e210859bd54"
  },
  {
   "metadata": {
    "ExecuteTime": {
     "end_time": "2025-06-05T21:48:43.502181Z",
     "start_time": "2025-06-05T21:48:43.495402Z"
    }
   },
   "cell_type": "code",
   "source": "from consistentvideo import story",
   "id": "75f6917ba47b4de9",
   "outputs": [],
   "execution_count": 10
  },
  {
   "metadata": {
    "ExecuteTime": {
     "end_time": "2025-06-05T21:48:54.985090Z",
     "start_time": "2025-06-05T21:48:43.776329Z"
    }
   },
   "cell_type": "code",
   "source": [
    "# 예시 스토리\n",
    "file_path = os.path.join(UPLOAD_DIR, \"컬투쇼버스.txt\")\n",
    "with open(file_path, \"r\", encoding=\"utf-8\") as f:\n",
    "    synopsis = f.read()\n",
    "\n",
    "scene_gen = story.SceneGenerator()\n",
    "scenes = scene_gen.generate_scenes(synopsis)\n",
    "\n",
    "print(\"scenes output\")\n",
    "for s in scenes:\n",
    "    print(s)\n"
   ],
   "id": "fda1952e3646bc43",
   "outputs": [
    {
     "name": "stdout",
     "output_type": "stream",
     "text": [
      "scenes output\n",
      "{'scene_id': 1, 'title': '한적한 아침 버스', 'description': '아침에 버스를 탔는데 승객이 아무도 없어 혼자서 버스를 전세 낸 것 같은 기분을 느낀다.'}\n",
      "{'scene_id': 2, 'title': '할아버지의 등장', 'description': '조용한 버스에 할아버지가 탑승하고, 자리에 앉자마자 벨을 누른다. 그러나 정류장에서 내리지 않는다.'}\n",
      "{'scene_id': 3, 'title': '계속되는 벨 누르기', 'description': '버스가 출발하자 할아버지는 또 벨을 누르지만 이번에도 내리지 않는다. 기사님이 할아버지에게 이유를 묻는다.'}\n",
      "{'scene_id': 4, 'title': '오해와 논쟁', 'description': '할아버지는 벨을 누른 적이 없다고 주장하고, 기사님과 실랑이가 벌어진다. 기사님은 짜증을 내며 다시 출발한다.'}\n",
      "{'scene_id': 5, 'title': '끊임없는 벨 소리', 'description': '출발하자마자 할아버지는 또 벨을 누르고 내리지 않자, 기사님은 정류장을 지나쳐버린다. 할아버지는 왜 안 세우냐며 항의한다.'}\n",
      "{'scene_id': 6, 'title': '할아버지의 반복된 행동', 'description': '정류장에서 멈춘 후에도 할아버지는 내리지 않고 창밖을 본다. 다시 벨을 누르고 기사님은 폭발한다.'}\n",
      "{'scene_id': 7, 'title': '기사님의 최후의 수단', 'description': '분노한 기사님은 모든 정류장을 무시하고 종점까지 직행한다. 할아버지는 항의하지만 무시당한다.'}\n",
      "{'scene_id': 8, 'title': '해피 엔딩', 'description': \"종점에 도착한 할아버지는 아무렇지 않게 '우리 집 종점'이라며 유유히 버스를 떠난다. 기사님은 당황하고, 할아버지는 내일 또 보자며 인사한다.\"}\n",
      "first cut outputs: \n",
      "{'cut_id': 1, 'description': '버스 정류장에서 버스가 도착하는 장면.', 'characters': [], 'background': '조용한 아침 거리와 버스 정류장.', 'objects': ['버스', '버스 정류장']}\n",
      "{'cut_id': 2, 'description': '주인공이 버스에 올라타는 장면.', 'characters': ['주인공'], 'background': '버스 내부', 'objects': ['버스 계단', '버스 손잡이']}\n",
      "{'cut_id': 3, 'description': '주인공이 빈 버스 내부를 둘러보며 혼자 앉는 장면.', 'characters': ['주인공'], 'background': '빈 버스 내부', 'objects': ['버스 좌석', '창문']}\n",
      "{'cut_id': 4, 'description': '주인공이 창밖을 바라보며 혼자만의 시간을 즐기는 장면.', 'characters': ['주인공'], 'background': '버스 안에서 보이는 창밖의 아침 거리', 'objects': ['창문', '버스 내부']}\n"
     ]
    }
   ],
   "execution_count": 11
  },
  {
   "metadata": {
    "ExecuteTime": {
     "end_time": "2025-06-05T23:05:50.508767Z",
     "start_time": "2025-06-05T23:05:50.505759Z"
    }
   },
   "cell_type": "code",
   "source": [
    "SCENE_CUT_DIR = os.path.join(BASE_DIR, \"scene-cut\")\n",
    "os.makedirs(SCENE_CUT_DIR, exist_ok=True)\n",
    "\n",
    "with open(os.path.join(SCENE_CUT_DIR, os.path.basename(file_path)), \"w\", encoding=\"utf-8\") as f:\n",
    "    for item in scenes:\n",
    "        # 각 요소 뒤에 줄바꿈(\\n)을 붙여서 파일에 씀\n",
    "        f.write(str(item) + \"\\n\")"
   ],
   "id": "c7a32ad62076ba0f",
   "outputs": [],
   "execution_count": 22
  },
  {
   "metadata": {
    "ExecuteTime": {
     "end_time": "2025-06-05T23:13:54.936052Z",
     "start_time": "2025-06-05T23:13:21.072607Z"
    }
   },
   "cell_type": "code",
   "source": [
    "cut_generator = story.CutGenerator()\n",
    "cut_list = list()\n",
    "\n",
    "for scene in scenes:\n",
    "    cut_list.append(cut_generator.cut_scene(scene))"
   ],
   "id": "243e4b03398ff706",
   "outputs": [],
   "execution_count": 24
  },
  {
   "metadata": {
    "ExecuteTime": {
     "end_time": "2025-06-05T23:16:13.320980Z",
     "start_time": "2025-06-05T23:16:13.312737Z"
    }
   },
   "cell_type": "code",
   "source": [
    "SCENE_CUT_DIR = os.path.join(BASE_DIR, \"scene-cut\")\n",
    "os.makedirs(SCENE_CUT_DIR, exist_ok=True)\n",
    "\n",
    "with open(os.path.join(SCENE_CUT_DIR, \"cut-\" + os.path.basename(file_path)), \"w\", encoding=\"utf-8\") as f:\n",
    "    for item in cut_list:\n",
    "        # 각 요소 뒤에 줄바꿈(\\n)을 붙여서 파일에 씀\n",
    "        f.write(str(item) + \"\\n\")"
   ],
   "id": "93b2db78858523a4",
   "outputs": [],
   "execution_count": 27
  },
  {
   "metadata": {
    "ExecuteTime": {
     "end_time": "2025-06-05T23:34:05.828829Z",
     "start_time": "2025-06-05T23:34:05.823490Z"
    }
   },
   "cell_type": "code",
   "source": [
    "# print(scenes)\n",
    "print(cut_list[0][0])"
   ],
   "id": "f42ae46c59dd292f",
   "outputs": [
    {
     "name": "stdout",
     "output_type": "stream",
     "text": [
      "버스 정류장에서 버스가 도착하는 장면.\n"
     ]
    }
   ],
   "execution_count": 31
  },
  {
   "metadata": {},
   "cell_type": "markdown",
   "source": "## 비디오 생성부 테스트",
   "id": "9e1c81b67a825986"
  },
  {
   "metadata": {
    "ExecuteTime": {
     "end_time": "2025-06-05T23:45:42.882098Z",
     "start_time": "2025-06-05T23:45:42.788767Z"
    }
   },
   "cell_type": "code",
   "source": [
    "from consistentvideo import video\n",
    "\n",
    "CUT_IMAGE_DIR = os.path.join(BASE_DIR, \"cut-image\", os.path.basename(file_path).split('.')[0])\n",
    "os.makedirs(CUT_IMAGE_DIR, exist_ok=True)"
   ],
   "id": "cd487c29d1c9d523",
   "outputs": [],
   "execution_count": 33
  },
  {
   "metadata": {
    "ExecuteTime": {
     "end_time": "2025-06-06T00:16:16.692593Z",
     "start_time": "2025-06-06T00:10:25.938216Z"
    }
   },
   "cell_type": "code",
   "source": [
    "cut_image_generator = video.CutImageGenerator()\n",
    "\n",
    "scene_num = 1\n",
    "for scene in cut_list:\n",
    "    cut_num = 1\n",
    "    for cut in scene:\n",
    "        filename = os.path.join(CUT_IMAGE_DIR, f\"{scene_num}-{cut_num}.png\")\n",
    "        cut_image_generator.cut = cut.get('description')\n",
    "        cut_image_generator.entity = f\"{cut.get('characters')}; {cut.get('background')} {cut.get('objects')}\"\n",
    "\n",
    "        cut_image_generator.execute()\n",
    "        cut_image_generator.cut_image.save(filename)\n",
    "        print(f\"save {filename}\")\n",
    "        cut_num += 1\n",
    "    scene_num += 1"
   ],
   "id": "3aff63c48b4c51d6",
   "outputs": [
    {
     "ename": "KeyboardInterrupt",
     "evalue": "",
     "output_type": "error",
     "traceback": [
      "\u001B[31m---------------------------------------------------------------------------\u001B[39m",
      "\u001B[31mKeyboardInterrupt\u001B[39m                         Traceback (most recent call last)",
      "\u001B[36mCell\u001B[39m\u001B[36m \u001B[39m\u001B[32mIn[47]\u001B[39m\u001B[32m, line 11\u001B[39m\n\u001B[32m      8\u001B[39m cut_image_generator.cut = cut.get(\u001B[33m'\u001B[39m\u001B[33mdescription\u001B[39m\u001B[33m'\u001B[39m)\n\u001B[32m      9\u001B[39m cut_image_generator.entity = \u001B[33mf\u001B[39m\u001B[33m\"\u001B[39m\u001B[38;5;132;01m{\u001B[39;00mcut.get(\u001B[33m'\u001B[39m\u001B[33mcharacters\u001B[39m\u001B[33m'\u001B[39m)\u001B[38;5;132;01m}\u001B[39;00m\u001B[33m; \u001B[39m\u001B[38;5;132;01m{\u001B[39;00mcut.get(\u001B[33m'\u001B[39m\u001B[33mbackground\u001B[39m\u001B[33m'\u001B[39m)\u001B[38;5;132;01m}\u001B[39;00m\u001B[33m \u001B[39m\u001B[38;5;132;01m{\u001B[39;00mcut.get(\u001B[33m'\u001B[39m\u001B[33mobjects\u001B[39m\u001B[33m'\u001B[39m)\u001B[38;5;132;01m}\u001B[39;00m\u001B[33m\"\u001B[39m\n\u001B[32m---> \u001B[39m\u001B[32m11\u001B[39m \u001B[43mcut_image_generator\u001B[49m\u001B[43m.\u001B[49m\u001B[43mexecute\u001B[49m\u001B[43m(\u001B[49m\u001B[43m)\u001B[49m\n\u001B[32m     12\u001B[39m cut_image_generator.cut_image.save(filename)\n\u001B[32m     13\u001B[39m cut_num += \u001B[32m1\u001B[39m\n",
      "\u001B[36mFile \u001B[39m\u001B[32m~/Projects/consistent-ai-video-generator/consistentvideo/video/cut_image_generator.py:44\u001B[39m, in \u001B[36mCutImageGenerator.execute\u001B[39m\u001B[34m(self)\u001B[39m\n\u001B[32m     37\u001B[39m prompt = prompt + \u001B[33m\"\"\"\u001B[39m\n\u001B[32m     38\u001B[39m \u001B[33m        Based on /////, the front part is the story and the back part is the attributes in the story. \u001B[39m\n\u001B[32m     39\u001B[39m \u001B[33m        And make the image describing the story in a 16:9 ratio by referring to the attributes needed to describe the story among the character object background attributes.\u001B[39m\n\u001B[32m     40\u001B[39m \u001B[33m        \u001B[39m\u001B[33m\"\"\"\u001B[39m\n\u001B[32m     42\u001B[39m \u001B[38;5;66;03m# ---------------dalle3 (can also dalle2)--------------\u001B[39;00m\n\u001B[32m---> \u001B[39m\u001B[32m44\u001B[39m result = \u001B[38;5;28;43mself\u001B[39;49m\u001B[43m.\u001B[49m\u001B[43mai_model\u001B[49m\u001B[43m.\u001B[49m\u001B[43mimages\u001B[49m\u001B[43m.\u001B[49m\u001B[43mgenerate\u001B[49m\u001B[43m(\u001B[49m\n\u001B[32m     45\u001B[39m \u001B[43m    \u001B[49m\u001B[43mmodel\u001B[49m\u001B[43m=\u001B[49m\u001B[33;43m\"\u001B[39;49m\u001B[33;43mdall-e-3\u001B[39;49m\u001B[33;43m\"\u001B[39;49m\u001B[43m,\u001B[49m\n\u001B[32m     46\u001B[39m \u001B[43m    \u001B[49m\u001B[43mprompt\u001B[49m\u001B[43m=\u001B[49m\u001B[43mprompt\u001B[49m\u001B[43m,\u001B[49m\n\u001B[32m     47\u001B[39m \u001B[43m    \u001B[49m\u001B[43msize\u001B[49m\u001B[43m=\u001B[49m\u001B[33;43m\"\u001B[39;49m\u001B[33;43m1792x1024\u001B[39;49m\u001B[33;43m\"\u001B[39;49m\n\u001B[32m     48\u001B[39m \u001B[43m\u001B[49m\u001B[43m)\u001B[49m\n\u001B[32m     49\u001B[39m image_url = result.data[\u001B[32m0\u001B[39m].url\n\u001B[32m     50\u001B[39m image_bytes = requests.get(image_url).content\n",
      "\u001B[36mFile \u001B[39m\u001B[32m~/Projects/consistent-ai-video-generator/.venv/lib/python3.12/site-packages/openai/resources/images.py:322\u001B[39m, in \u001B[36mImages.generate\u001B[39m\u001B[34m(self, prompt, background, model, moderation, n, output_compression, output_format, quality, response_format, size, style, user, extra_headers, extra_query, extra_body, timeout)\u001B[39m\n\u001B[32m    228\u001B[39m \u001B[38;5;28;01mdef\u001B[39;00m\u001B[38;5;250m \u001B[39m\u001B[34mgenerate\u001B[39m(\n\u001B[32m    229\u001B[39m     \u001B[38;5;28mself\u001B[39m,\n\u001B[32m    230\u001B[39m     *,\n\u001B[32m   (...)\u001B[39m\u001B[32m    251\u001B[39m     timeout: \u001B[38;5;28mfloat\u001B[39m | httpx.Timeout | \u001B[38;5;28;01mNone\u001B[39;00m | NotGiven = NOT_GIVEN,\n\u001B[32m    252\u001B[39m ) -> ImagesResponse:\n\u001B[32m    253\u001B[39m \u001B[38;5;250m    \u001B[39m\u001B[33;03m\"\"\"\u001B[39;00m\n\u001B[32m    254\u001B[39m \u001B[33;03m    Creates an image given a prompt.\u001B[39;00m\n\u001B[32m    255\u001B[39m \u001B[33;03m    [Learn more](https://platform.openai.com/docs/guides/images).\u001B[39;00m\n\u001B[32m   (...)\u001B[39m\u001B[32m    320\u001B[39m \u001B[33;03m      timeout: Override the client-level default timeout for this request, in seconds\u001B[39;00m\n\u001B[32m    321\u001B[39m \u001B[33;03m    \"\"\"\u001B[39;00m\n\u001B[32m--> \u001B[39m\u001B[32m322\u001B[39m     \u001B[38;5;28;01mreturn\u001B[39;00m \u001B[38;5;28;43mself\u001B[39;49m\u001B[43m.\u001B[49m\u001B[43m_post\u001B[49m\u001B[43m(\u001B[49m\n\u001B[32m    323\u001B[39m \u001B[43m        \u001B[49m\u001B[33;43m\"\u001B[39;49m\u001B[33;43m/images/generations\u001B[39;49m\u001B[33;43m\"\u001B[39;49m\u001B[43m,\u001B[49m\n\u001B[32m    324\u001B[39m \u001B[43m        \u001B[49m\u001B[43mbody\u001B[49m\u001B[43m=\u001B[49m\u001B[43mmaybe_transform\u001B[49m\u001B[43m(\u001B[49m\n\u001B[32m    325\u001B[39m \u001B[43m            \u001B[49m\u001B[43m{\u001B[49m\n\u001B[32m    326\u001B[39m \u001B[43m                \u001B[49m\u001B[33;43m\"\u001B[39;49m\u001B[33;43mprompt\u001B[39;49m\u001B[33;43m\"\u001B[39;49m\u001B[43m:\u001B[49m\u001B[43m \u001B[49m\u001B[43mprompt\u001B[49m\u001B[43m,\u001B[49m\n\u001B[32m    327\u001B[39m \u001B[43m                \u001B[49m\u001B[33;43m\"\u001B[39;49m\u001B[33;43mbackground\u001B[39;49m\u001B[33;43m\"\u001B[39;49m\u001B[43m:\u001B[49m\u001B[43m \u001B[49m\u001B[43mbackground\u001B[49m\u001B[43m,\u001B[49m\n\u001B[32m    328\u001B[39m \u001B[43m                \u001B[49m\u001B[33;43m\"\u001B[39;49m\u001B[33;43mmodel\u001B[39;49m\u001B[33;43m\"\u001B[39;49m\u001B[43m:\u001B[49m\u001B[43m \u001B[49m\u001B[43mmodel\u001B[49m\u001B[43m,\u001B[49m\n\u001B[32m    329\u001B[39m \u001B[43m                \u001B[49m\u001B[33;43m\"\u001B[39;49m\u001B[33;43mmoderation\u001B[39;49m\u001B[33;43m\"\u001B[39;49m\u001B[43m:\u001B[49m\u001B[43m \u001B[49m\u001B[43mmoderation\u001B[49m\u001B[43m,\u001B[49m\n\u001B[32m    330\u001B[39m \u001B[43m                \u001B[49m\u001B[33;43m\"\u001B[39;49m\u001B[33;43mn\u001B[39;49m\u001B[33;43m\"\u001B[39;49m\u001B[43m:\u001B[49m\u001B[43m \u001B[49m\u001B[43mn\u001B[49m\u001B[43m,\u001B[49m\n\u001B[32m    331\u001B[39m \u001B[43m                \u001B[49m\u001B[33;43m\"\u001B[39;49m\u001B[33;43moutput_compression\u001B[39;49m\u001B[33;43m\"\u001B[39;49m\u001B[43m:\u001B[49m\u001B[43m \u001B[49m\u001B[43moutput_compression\u001B[49m\u001B[43m,\u001B[49m\n\u001B[32m    332\u001B[39m \u001B[43m                \u001B[49m\u001B[33;43m\"\u001B[39;49m\u001B[33;43moutput_format\u001B[39;49m\u001B[33;43m\"\u001B[39;49m\u001B[43m:\u001B[49m\u001B[43m \u001B[49m\u001B[43moutput_format\u001B[49m\u001B[43m,\u001B[49m\n\u001B[32m    333\u001B[39m \u001B[43m                \u001B[49m\u001B[33;43m\"\u001B[39;49m\u001B[33;43mquality\u001B[39;49m\u001B[33;43m\"\u001B[39;49m\u001B[43m:\u001B[49m\u001B[43m \u001B[49m\u001B[43mquality\u001B[49m\u001B[43m,\u001B[49m\n\u001B[32m    334\u001B[39m \u001B[43m                \u001B[49m\u001B[33;43m\"\u001B[39;49m\u001B[33;43mresponse_format\u001B[39;49m\u001B[33;43m\"\u001B[39;49m\u001B[43m:\u001B[49m\u001B[43m \u001B[49m\u001B[43mresponse_format\u001B[49m\u001B[43m,\u001B[49m\n\u001B[32m    335\u001B[39m \u001B[43m                \u001B[49m\u001B[33;43m\"\u001B[39;49m\u001B[33;43msize\u001B[39;49m\u001B[33;43m\"\u001B[39;49m\u001B[43m:\u001B[49m\u001B[43m \u001B[49m\u001B[43msize\u001B[49m\u001B[43m,\u001B[49m\n\u001B[32m    336\u001B[39m \u001B[43m                \u001B[49m\u001B[33;43m\"\u001B[39;49m\u001B[33;43mstyle\u001B[39;49m\u001B[33;43m\"\u001B[39;49m\u001B[43m:\u001B[49m\u001B[43m \u001B[49m\u001B[43mstyle\u001B[49m\u001B[43m,\u001B[49m\n\u001B[32m    337\u001B[39m \u001B[43m                \u001B[49m\u001B[33;43m\"\u001B[39;49m\u001B[33;43muser\u001B[39;49m\u001B[33;43m\"\u001B[39;49m\u001B[43m:\u001B[49m\u001B[43m \u001B[49m\u001B[43muser\u001B[49m\u001B[43m,\u001B[49m\n\u001B[32m    338\u001B[39m \u001B[43m            \u001B[49m\u001B[43m}\u001B[49m\u001B[43m,\u001B[49m\n\u001B[32m    339\u001B[39m \u001B[43m            \u001B[49m\u001B[43mimage_generate_params\u001B[49m\u001B[43m.\u001B[49m\u001B[43mImageGenerateParams\u001B[49m\u001B[43m,\u001B[49m\n\u001B[32m    340\u001B[39m \u001B[43m        \u001B[49m\u001B[43m)\u001B[49m\u001B[43m,\u001B[49m\n\u001B[32m    341\u001B[39m \u001B[43m        \u001B[49m\u001B[43moptions\u001B[49m\u001B[43m=\u001B[49m\u001B[43mmake_request_options\u001B[49m\u001B[43m(\u001B[49m\n\u001B[32m    342\u001B[39m \u001B[43m            \u001B[49m\u001B[43mextra_headers\u001B[49m\u001B[43m=\u001B[49m\u001B[43mextra_headers\u001B[49m\u001B[43m,\u001B[49m\u001B[43m \u001B[49m\u001B[43mextra_query\u001B[49m\u001B[43m=\u001B[49m\u001B[43mextra_query\u001B[49m\u001B[43m,\u001B[49m\u001B[43m \u001B[49m\u001B[43mextra_body\u001B[49m\u001B[43m=\u001B[49m\u001B[43mextra_body\u001B[49m\u001B[43m,\u001B[49m\u001B[43m \u001B[49m\u001B[43mtimeout\u001B[49m\u001B[43m=\u001B[49m\u001B[43mtimeout\u001B[49m\n\u001B[32m    343\u001B[39m \u001B[43m        \u001B[49m\u001B[43m)\u001B[49m\u001B[43m,\u001B[49m\n\u001B[32m    344\u001B[39m \u001B[43m        \u001B[49m\u001B[43mcast_to\u001B[49m\u001B[43m=\u001B[49m\u001B[43mImagesResponse\u001B[49m\u001B[43m,\u001B[49m\n\u001B[32m    345\u001B[39m \u001B[43m    \u001B[49m\u001B[43m)\u001B[49m\n",
      "\u001B[36mFile \u001B[39m\u001B[32m~/Projects/consistent-ai-video-generator/.venv/lib/python3.12/site-packages/openai/_base_client.py:1242\u001B[39m, in \u001B[36mSyncAPIClient.post\u001B[39m\u001B[34m(self, path, cast_to, body, options, files, stream, stream_cls)\u001B[39m\n\u001B[32m   1228\u001B[39m \u001B[38;5;28;01mdef\u001B[39;00m\u001B[38;5;250m \u001B[39m\u001B[34mpost\u001B[39m(\n\u001B[32m   1229\u001B[39m     \u001B[38;5;28mself\u001B[39m,\n\u001B[32m   1230\u001B[39m     path: \u001B[38;5;28mstr\u001B[39m,\n\u001B[32m   (...)\u001B[39m\u001B[32m   1237\u001B[39m     stream_cls: \u001B[38;5;28mtype\u001B[39m[_StreamT] | \u001B[38;5;28;01mNone\u001B[39;00m = \u001B[38;5;28;01mNone\u001B[39;00m,\n\u001B[32m   1238\u001B[39m ) -> ResponseT | _StreamT:\n\u001B[32m   1239\u001B[39m     opts = FinalRequestOptions.construct(\n\u001B[32m   1240\u001B[39m         method=\u001B[33m\"\u001B[39m\u001B[33mpost\u001B[39m\u001B[33m\"\u001B[39m, url=path, json_data=body, files=to_httpx_files(files), **options\n\u001B[32m   1241\u001B[39m     )\n\u001B[32m-> \u001B[39m\u001B[32m1242\u001B[39m     \u001B[38;5;28;01mreturn\u001B[39;00m cast(ResponseT, \u001B[38;5;28;43mself\u001B[39;49m\u001B[43m.\u001B[49m\u001B[43mrequest\u001B[49m\u001B[43m(\u001B[49m\u001B[43mcast_to\u001B[49m\u001B[43m,\u001B[49m\u001B[43m \u001B[49m\u001B[43mopts\u001B[49m\u001B[43m,\u001B[49m\u001B[43m \u001B[49m\u001B[43mstream\u001B[49m\u001B[43m=\u001B[49m\u001B[43mstream\u001B[49m\u001B[43m,\u001B[49m\u001B[43m \u001B[49m\u001B[43mstream_cls\u001B[49m\u001B[43m=\u001B[49m\u001B[43mstream_cls\u001B[49m\u001B[43m)\u001B[49m)\n",
      "\u001B[36mFile \u001B[39m\u001B[32m~/Projects/consistent-ai-video-generator/.venv/lib/python3.12/site-packages/openai/_base_client.py:972\u001B[39m, in \u001B[36mSyncAPIClient.request\u001B[39m\u001B[34m(self, cast_to, options, stream, stream_cls)\u001B[39m\n\u001B[32m    970\u001B[39m response = \u001B[38;5;28;01mNone\u001B[39;00m\n\u001B[32m    971\u001B[39m \u001B[38;5;28;01mtry\u001B[39;00m:\n\u001B[32m--> \u001B[39m\u001B[32m972\u001B[39m     response = \u001B[38;5;28;43mself\u001B[39;49m\u001B[43m.\u001B[49m\u001B[43m_client\u001B[49m\u001B[43m.\u001B[49m\u001B[43msend\u001B[49m\u001B[43m(\u001B[49m\n\u001B[32m    973\u001B[39m \u001B[43m        \u001B[49m\u001B[43mrequest\u001B[49m\u001B[43m,\u001B[49m\n\u001B[32m    974\u001B[39m \u001B[43m        \u001B[49m\u001B[43mstream\u001B[49m\u001B[43m=\u001B[49m\u001B[43mstream\u001B[49m\u001B[43m \u001B[49m\u001B[38;5;129;43;01mor\u001B[39;49;00m\u001B[43m \u001B[49m\u001B[38;5;28;43mself\u001B[39;49m\u001B[43m.\u001B[49m\u001B[43m_should_stream_response_body\u001B[49m\u001B[43m(\u001B[49m\u001B[43mrequest\u001B[49m\u001B[43m=\u001B[49m\u001B[43mrequest\u001B[49m\u001B[43m)\u001B[49m\u001B[43m,\u001B[49m\n\u001B[32m    975\u001B[39m \u001B[43m        \u001B[49m\u001B[43m*\u001B[49m\u001B[43m*\u001B[49m\u001B[43mkwargs\u001B[49m\u001B[43m,\u001B[49m\n\u001B[32m    976\u001B[39m \u001B[43m    \u001B[49m\u001B[43m)\u001B[49m\n\u001B[32m    977\u001B[39m \u001B[38;5;28;01mexcept\u001B[39;00m httpx.TimeoutException \u001B[38;5;28;01mas\u001B[39;00m err:\n\u001B[32m    978\u001B[39m     log.debug(\u001B[33m\"\u001B[39m\u001B[33mEncountered httpx.TimeoutException\u001B[39m\u001B[33m\"\u001B[39m, exc_info=\u001B[38;5;28;01mTrue\u001B[39;00m)\n",
      "\u001B[36mFile \u001B[39m\u001B[32m~/Projects/consistent-ai-video-generator/.venv/lib/python3.12/site-packages/httpx/_client.py:914\u001B[39m, in \u001B[36mClient.send\u001B[39m\u001B[34m(self, request, stream, auth, follow_redirects)\u001B[39m\n\u001B[32m    910\u001B[39m \u001B[38;5;28mself\u001B[39m._set_timeout(request)\n\u001B[32m    912\u001B[39m auth = \u001B[38;5;28mself\u001B[39m._build_request_auth(request, auth)\n\u001B[32m--> \u001B[39m\u001B[32m914\u001B[39m response = \u001B[38;5;28;43mself\u001B[39;49m\u001B[43m.\u001B[49m\u001B[43m_send_handling_auth\u001B[49m\u001B[43m(\u001B[49m\n\u001B[32m    915\u001B[39m \u001B[43m    \u001B[49m\u001B[43mrequest\u001B[49m\u001B[43m,\u001B[49m\n\u001B[32m    916\u001B[39m \u001B[43m    \u001B[49m\u001B[43mauth\u001B[49m\u001B[43m=\u001B[49m\u001B[43mauth\u001B[49m\u001B[43m,\u001B[49m\n\u001B[32m    917\u001B[39m \u001B[43m    \u001B[49m\u001B[43mfollow_redirects\u001B[49m\u001B[43m=\u001B[49m\u001B[43mfollow_redirects\u001B[49m\u001B[43m,\u001B[49m\n\u001B[32m    918\u001B[39m \u001B[43m    \u001B[49m\u001B[43mhistory\u001B[49m\u001B[43m=\u001B[49m\u001B[43m[\u001B[49m\u001B[43m]\u001B[49m\u001B[43m,\u001B[49m\n\u001B[32m    919\u001B[39m \u001B[43m\u001B[49m\u001B[43m)\u001B[49m\n\u001B[32m    920\u001B[39m \u001B[38;5;28;01mtry\u001B[39;00m:\n\u001B[32m    921\u001B[39m     \u001B[38;5;28;01mif\u001B[39;00m \u001B[38;5;129;01mnot\u001B[39;00m stream:\n",
      "\u001B[36mFile \u001B[39m\u001B[32m~/Projects/consistent-ai-video-generator/.venv/lib/python3.12/site-packages/httpx/_client.py:942\u001B[39m, in \u001B[36mClient._send_handling_auth\u001B[39m\u001B[34m(self, request, auth, follow_redirects, history)\u001B[39m\n\u001B[32m    939\u001B[39m request = \u001B[38;5;28mnext\u001B[39m(auth_flow)\n\u001B[32m    941\u001B[39m \u001B[38;5;28;01mwhile\u001B[39;00m \u001B[38;5;28;01mTrue\u001B[39;00m:\n\u001B[32m--> \u001B[39m\u001B[32m942\u001B[39m     response = \u001B[38;5;28;43mself\u001B[39;49m\u001B[43m.\u001B[49m\u001B[43m_send_handling_redirects\u001B[49m\u001B[43m(\u001B[49m\n\u001B[32m    943\u001B[39m \u001B[43m        \u001B[49m\u001B[43mrequest\u001B[49m\u001B[43m,\u001B[49m\n\u001B[32m    944\u001B[39m \u001B[43m        \u001B[49m\u001B[43mfollow_redirects\u001B[49m\u001B[43m=\u001B[49m\u001B[43mfollow_redirects\u001B[49m\u001B[43m,\u001B[49m\n\u001B[32m    945\u001B[39m \u001B[43m        \u001B[49m\u001B[43mhistory\u001B[49m\u001B[43m=\u001B[49m\u001B[43mhistory\u001B[49m\u001B[43m,\u001B[49m\n\u001B[32m    946\u001B[39m \u001B[43m    \u001B[49m\u001B[43m)\u001B[49m\n\u001B[32m    947\u001B[39m     \u001B[38;5;28;01mtry\u001B[39;00m:\n\u001B[32m    948\u001B[39m         \u001B[38;5;28;01mtry\u001B[39;00m:\n",
      "\u001B[36mFile \u001B[39m\u001B[32m~/Projects/consistent-ai-video-generator/.venv/lib/python3.12/site-packages/httpx/_client.py:979\u001B[39m, in \u001B[36mClient._send_handling_redirects\u001B[39m\u001B[34m(self, request, follow_redirects, history)\u001B[39m\n\u001B[32m    976\u001B[39m \u001B[38;5;28;01mfor\u001B[39;00m hook \u001B[38;5;129;01min\u001B[39;00m \u001B[38;5;28mself\u001B[39m._event_hooks[\u001B[33m\"\u001B[39m\u001B[33mrequest\u001B[39m\u001B[33m\"\u001B[39m]:\n\u001B[32m    977\u001B[39m     hook(request)\n\u001B[32m--> \u001B[39m\u001B[32m979\u001B[39m response = \u001B[38;5;28;43mself\u001B[39;49m\u001B[43m.\u001B[49m\u001B[43m_send_single_request\u001B[49m\u001B[43m(\u001B[49m\u001B[43mrequest\u001B[49m\u001B[43m)\u001B[49m\n\u001B[32m    980\u001B[39m \u001B[38;5;28;01mtry\u001B[39;00m:\n\u001B[32m    981\u001B[39m     \u001B[38;5;28;01mfor\u001B[39;00m hook \u001B[38;5;129;01min\u001B[39;00m \u001B[38;5;28mself\u001B[39m._event_hooks[\u001B[33m\"\u001B[39m\u001B[33mresponse\u001B[39m\u001B[33m\"\u001B[39m]:\n",
      "\u001B[36mFile \u001B[39m\u001B[32m~/Projects/consistent-ai-video-generator/.venv/lib/python3.12/site-packages/httpx/_client.py:1014\u001B[39m, in \u001B[36mClient._send_single_request\u001B[39m\u001B[34m(self, request)\u001B[39m\n\u001B[32m   1009\u001B[39m     \u001B[38;5;28;01mraise\u001B[39;00m \u001B[38;5;167;01mRuntimeError\u001B[39;00m(\n\u001B[32m   1010\u001B[39m         \u001B[33m\"\u001B[39m\u001B[33mAttempted to send an async request with a sync Client instance.\u001B[39m\u001B[33m\"\u001B[39m\n\u001B[32m   1011\u001B[39m     )\n\u001B[32m   1013\u001B[39m \u001B[38;5;28;01mwith\u001B[39;00m request_context(request=request):\n\u001B[32m-> \u001B[39m\u001B[32m1014\u001B[39m     response = \u001B[43mtransport\u001B[49m\u001B[43m.\u001B[49m\u001B[43mhandle_request\u001B[49m\u001B[43m(\u001B[49m\u001B[43mrequest\u001B[49m\u001B[43m)\u001B[49m\n\u001B[32m   1016\u001B[39m \u001B[38;5;28;01massert\u001B[39;00m \u001B[38;5;28misinstance\u001B[39m(response.stream, SyncByteStream)\n\u001B[32m   1018\u001B[39m response.request = request\n",
      "\u001B[36mFile \u001B[39m\u001B[32m~/Projects/consistent-ai-video-generator/.venv/lib/python3.12/site-packages/httpx/_transports/default.py:250\u001B[39m, in \u001B[36mHTTPTransport.handle_request\u001B[39m\u001B[34m(self, request)\u001B[39m\n\u001B[32m    237\u001B[39m req = httpcore.Request(\n\u001B[32m    238\u001B[39m     method=request.method,\n\u001B[32m    239\u001B[39m     url=httpcore.URL(\n\u001B[32m   (...)\u001B[39m\u001B[32m    247\u001B[39m     extensions=request.extensions,\n\u001B[32m    248\u001B[39m )\n\u001B[32m    249\u001B[39m \u001B[38;5;28;01mwith\u001B[39;00m map_httpcore_exceptions():\n\u001B[32m--> \u001B[39m\u001B[32m250\u001B[39m     resp = \u001B[38;5;28;43mself\u001B[39;49m\u001B[43m.\u001B[49m\u001B[43m_pool\u001B[49m\u001B[43m.\u001B[49m\u001B[43mhandle_request\u001B[49m\u001B[43m(\u001B[49m\u001B[43mreq\u001B[49m\u001B[43m)\u001B[49m\n\u001B[32m    252\u001B[39m \u001B[38;5;28;01massert\u001B[39;00m \u001B[38;5;28misinstance\u001B[39m(resp.stream, typing.Iterable)\n\u001B[32m    254\u001B[39m \u001B[38;5;28;01mreturn\u001B[39;00m Response(\n\u001B[32m    255\u001B[39m     status_code=resp.status,\n\u001B[32m    256\u001B[39m     headers=resp.headers,\n\u001B[32m    257\u001B[39m     stream=ResponseStream(resp.stream),\n\u001B[32m    258\u001B[39m     extensions=resp.extensions,\n\u001B[32m    259\u001B[39m )\n",
      "\u001B[36mFile \u001B[39m\u001B[32m~/Projects/consistent-ai-video-generator/.venv/lib/python3.12/site-packages/httpcore/_sync/connection_pool.py:256\u001B[39m, in \u001B[36mConnectionPool.handle_request\u001B[39m\u001B[34m(self, request)\u001B[39m\n\u001B[32m    253\u001B[39m         closing = \u001B[38;5;28mself\u001B[39m._assign_requests_to_connections()\n\u001B[32m    255\u001B[39m     \u001B[38;5;28mself\u001B[39m._close_connections(closing)\n\u001B[32m--> \u001B[39m\u001B[32m256\u001B[39m     \u001B[38;5;28;01mraise\u001B[39;00m exc \u001B[38;5;28;01mfrom\u001B[39;00m\u001B[38;5;250m \u001B[39m\u001B[38;5;28;01mNone\u001B[39;00m\n\u001B[32m    258\u001B[39m \u001B[38;5;66;03m# Return the response. Note that in this case we still have to manage\u001B[39;00m\n\u001B[32m    259\u001B[39m \u001B[38;5;66;03m# the point at which the response is closed.\u001B[39;00m\n\u001B[32m    260\u001B[39m \u001B[38;5;28;01massert\u001B[39;00m \u001B[38;5;28misinstance\u001B[39m(response.stream, typing.Iterable)\n",
      "\u001B[36mFile \u001B[39m\u001B[32m~/Projects/consistent-ai-video-generator/.venv/lib/python3.12/site-packages/httpcore/_sync/connection_pool.py:236\u001B[39m, in \u001B[36mConnectionPool.handle_request\u001B[39m\u001B[34m(self, request)\u001B[39m\n\u001B[32m    232\u001B[39m connection = pool_request.wait_for_connection(timeout=timeout)\n\u001B[32m    234\u001B[39m \u001B[38;5;28;01mtry\u001B[39;00m:\n\u001B[32m    235\u001B[39m     \u001B[38;5;66;03m# Send the request on the assigned connection.\u001B[39;00m\n\u001B[32m--> \u001B[39m\u001B[32m236\u001B[39m     response = \u001B[43mconnection\u001B[49m\u001B[43m.\u001B[49m\u001B[43mhandle_request\u001B[49m\u001B[43m(\u001B[49m\n\u001B[32m    237\u001B[39m \u001B[43m        \u001B[49m\u001B[43mpool_request\u001B[49m\u001B[43m.\u001B[49m\u001B[43mrequest\u001B[49m\n\u001B[32m    238\u001B[39m \u001B[43m    \u001B[49m\u001B[43m)\u001B[49m\n\u001B[32m    239\u001B[39m \u001B[38;5;28;01mexcept\u001B[39;00m ConnectionNotAvailable:\n\u001B[32m    240\u001B[39m     \u001B[38;5;66;03m# In some cases a connection may initially be available to\u001B[39;00m\n\u001B[32m    241\u001B[39m     \u001B[38;5;66;03m# handle a request, but then become unavailable.\u001B[39;00m\n\u001B[32m    242\u001B[39m     \u001B[38;5;66;03m#\u001B[39;00m\n\u001B[32m    243\u001B[39m     \u001B[38;5;66;03m# In this case we clear the connection and try again.\u001B[39;00m\n\u001B[32m    244\u001B[39m     pool_request.clear_connection()\n",
      "\u001B[36mFile \u001B[39m\u001B[32m~/Projects/consistent-ai-video-generator/.venv/lib/python3.12/site-packages/httpcore/_sync/connection.py:103\u001B[39m, in \u001B[36mHTTPConnection.handle_request\u001B[39m\u001B[34m(self, request)\u001B[39m\n\u001B[32m    100\u001B[39m     \u001B[38;5;28mself\u001B[39m._connect_failed = \u001B[38;5;28;01mTrue\u001B[39;00m\n\u001B[32m    101\u001B[39m     \u001B[38;5;28;01mraise\u001B[39;00m exc\n\u001B[32m--> \u001B[39m\u001B[32m103\u001B[39m \u001B[38;5;28;01mreturn\u001B[39;00m \u001B[38;5;28;43mself\u001B[39;49m\u001B[43m.\u001B[49m\u001B[43m_connection\u001B[49m\u001B[43m.\u001B[49m\u001B[43mhandle_request\u001B[49m\u001B[43m(\u001B[49m\u001B[43mrequest\u001B[49m\u001B[43m)\u001B[49m\n",
      "\u001B[36mFile \u001B[39m\u001B[32m~/Projects/consistent-ai-video-generator/.venv/lib/python3.12/site-packages/httpcore/_sync/http11.py:136\u001B[39m, in \u001B[36mHTTP11Connection.handle_request\u001B[39m\u001B[34m(self, request)\u001B[39m\n\u001B[32m    134\u001B[39m     \u001B[38;5;28;01mwith\u001B[39;00m Trace(\u001B[33m\"\u001B[39m\u001B[33mresponse_closed\u001B[39m\u001B[33m\"\u001B[39m, logger, request) \u001B[38;5;28;01mas\u001B[39;00m trace:\n\u001B[32m    135\u001B[39m         \u001B[38;5;28mself\u001B[39m._response_closed()\n\u001B[32m--> \u001B[39m\u001B[32m136\u001B[39m \u001B[38;5;28;01mraise\u001B[39;00m exc\n",
      "\u001B[36mFile \u001B[39m\u001B[32m~/Projects/consistent-ai-video-generator/.venv/lib/python3.12/site-packages/httpcore/_sync/http11.py:106\u001B[39m, in \u001B[36mHTTP11Connection.handle_request\u001B[39m\u001B[34m(self, request)\u001B[39m\n\u001B[32m     95\u001B[39m     \u001B[38;5;28;01mpass\u001B[39;00m\n\u001B[32m     97\u001B[39m \u001B[38;5;28;01mwith\u001B[39;00m Trace(\n\u001B[32m     98\u001B[39m     \u001B[33m\"\u001B[39m\u001B[33mreceive_response_headers\u001B[39m\u001B[33m\"\u001B[39m, logger, request, kwargs\n\u001B[32m     99\u001B[39m ) \u001B[38;5;28;01mas\u001B[39;00m trace:\n\u001B[32m    100\u001B[39m     (\n\u001B[32m    101\u001B[39m         http_version,\n\u001B[32m    102\u001B[39m         status,\n\u001B[32m    103\u001B[39m         reason_phrase,\n\u001B[32m    104\u001B[39m         headers,\n\u001B[32m    105\u001B[39m         trailing_data,\n\u001B[32m--> \u001B[39m\u001B[32m106\u001B[39m     ) = \u001B[38;5;28;43mself\u001B[39;49m\u001B[43m.\u001B[49m\u001B[43m_receive_response_headers\u001B[49m\u001B[43m(\u001B[49m\u001B[43m*\u001B[49m\u001B[43m*\u001B[49m\u001B[43mkwargs\u001B[49m\u001B[43m)\u001B[49m\n\u001B[32m    107\u001B[39m     trace.return_value = (\n\u001B[32m    108\u001B[39m         http_version,\n\u001B[32m    109\u001B[39m         status,\n\u001B[32m    110\u001B[39m         reason_phrase,\n\u001B[32m    111\u001B[39m         headers,\n\u001B[32m    112\u001B[39m     )\n\u001B[32m    114\u001B[39m network_stream = \u001B[38;5;28mself\u001B[39m._network_stream\n",
      "\u001B[36mFile \u001B[39m\u001B[32m~/Projects/consistent-ai-video-generator/.venv/lib/python3.12/site-packages/httpcore/_sync/http11.py:177\u001B[39m, in \u001B[36mHTTP11Connection._receive_response_headers\u001B[39m\u001B[34m(self, request)\u001B[39m\n\u001B[32m    174\u001B[39m timeout = timeouts.get(\u001B[33m\"\u001B[39m\u001B[33mread\u001B[39m\u001B[33m\"\u001B[39m, \u001B[38;5;28;01mNone\u001B[39;00m)\n\u001B[32m    176\u001B[39m \u001B[38;5;28;01mwhile\u001B[39;00m \u001B[38;5;28;01mTrue\u001B[39;00m:\n\u001B[32m--> \u001B[39m\u001B[32m177\u001B[39m     event = \u001B[38;5;28;43mself\u001B[39;49m\u001B[43m.\u001B[49m\u001B[43m_receive_event\u001B[49m\u001B[43m(\u001B[49m\u001B[43mtimeout\u001B[49m\u001B[43m=\u001B[49m\u001B[43mtimeout\u001B[49m\u001B[43m)\u001B[49m\n\u001B[32m    178\u001B[39m     \u001B[38;5;28;01mif\u001B[39;00m \u001B[38;5;28misinstance\u001B[39m(event, h11.Response):\n\u001B[32m    179\u001B[39m         \u001B[38;5;28;01mbreak\u001B[39;00m\n",
      "\u001B[36mFile \u001B[39m\u001B[32m~/Projects/consistent-ai-video-generator/.venv/lib/python3.12/site-packages/httpcore/_sync/http11.py:217\u001B[39m, in \u001B[36mHTTP11Connection._receive_event\u001B[39m\u001B[34m(self, timeout)\u001B[39m\n\u001B[32m    214\u001B[39m     event = \u001B[38;5;28mself\u001B[39m._h11_state.next_event()\n\u001B[32m    216\u001B[39m \u001B[38;5;28;01mif\u001B[39;00m event \u001B[38;5;129;01mis\u001B[39;00m h11.NEED_DATA:\n\u001B[32m--> \u001B[39m\u001B[32m217\u001B[39m     data = \u001B[38;5;28;43mself\u001B[39;49m\u001B[43m.\u001B[49m\u001B[43m_network_stream\u001B[49m\u001B[43m.\u001B[49m\u001B[43mread\u001B[49m\u001B[43m(\u001B[49m\n\u001B[32m    218\u001B[39m \u001B[43m        \u001B[49m\u001B[38;5;28;43mself\u001B[39;49m\u001B[43m.\u001B[49m\u001B[43mREAD_NUM_BYTES\u001B[49m\u001B[43m,\u001B[49m\u001B[43m \u001B[49m\u001B[43mtimeout\u001B[49m\u001B[43m=\u001B[49m\u001B[43mtimeout\u001B[49m\n\u001B[32m    219\u001B[39m \u001B[43m    \u001B[49m\u001B[43m)\u001B[49m\n\u001B[32m    221\u001B[39m     \u001B[38;5;66;03m# If we feed this case through h11 we'll raise an exception like:\u001B[39;00m\n\u001B[32m    222\u001B[39m     \u001B[38;5;66;03m#\u001B[39;00m\n\u001B[32m    223\u001B[39m     \u001B[38;5;66;03m#     httpcore.RemoteProtocolError: can't handle event type\u001B[39;00m\n\u001B[32m   (...)\u001B[39m\u001B[32m    227\u001B[39m     \u001B[38;5;66;03m# perspective. Instead we handle this case distinctly and treat\u001B[39;00m\n\u001B[32m    228\u001B[39m     \u001B[38;5;66;03m# it as a ConnectError.\u001B[39;00m\n\u001B[32m    229\u001B[39m     \u001B[38;5;28;01mif\u001B[39;00m data == \u001B[33mb\u001B[39m\u001B[33m\"\u001B[39m\u001B[33m\"\u001B[39m \u001B[38;5;129;01mand\u001B[39;00m \u001B[38;5;28mself\u001B[39m._h11_state.their_state == h11.SEND_RESPONSE:\n",
      "\u001B[36mFile \u001B[39m\u001B[32m~/Projects/consistent-ai-video-generator/.venv/lib/python3.12/site-packages/httpcore/_backends/sync.py:128\u001B[39m, in \u001B[36mSyncStream.read\u001B[39m\u001B[34m(self, max_bytes, timeout)\u001B[39m\n\u001B[32m    126\u001B[39m \u001B[38;5;28;01mwith\u001B[39;00m map_exceptions(exc_map):\n\u001B[32m    127\u001B[39m     \u001B[38;5;28mself\u001B[39m._sock.settimeout(timeout)\n\u001B[32m--> \u001B[39m\u001B[32m128\u001B[39m     \u001B[38;5;28;01mreturn\u001B[39;00m \u001B[38;5;28;43mself\u001B[39;49m\u001B[43m.\u001B[49m\u001B[43m_sock\u001B[49m\u001B[43m.\u001B[49m\u001B[43mrecv\u001B[49m\u001B[43m(\u001B[49m\u001B[43mmax_bytes\u001B[49m\u001B[43m)\u001B[49m\n",
      "\u001B[36mFile \u001B[39m\u001B[32m/Library/Frameworks/Python.framework/Versions/3.12/lib/python3.12/ssl.py:1232\u001B[39m, in \u001B[36mSSLSocket.recv\u001B[39m\u001B[34m(self, buflen, flags)\u001B[39m\n\u001B[32m   1228\u001B[39m     \u001B[38;5;28;01mif\u001B[39;00m flags != \u001B[32m0\u001B[39m:\n\u001B[32m   1229\u001B[39m         \u001B[38;5;28;01mraise\u001B[39;00m \u001B[38;5;167;01mValueError\u001B[39;00m(\n\u001B[32m   1230\u001B[39m             \u001B[33m\"\u001B[39m\u001B[33mnon-zero flags not allowed in calls to recv() on \u001B[39m\u001B[38;5;132;01m%s\u001B[39;00m\u001B[33m\"\u001B[39m %\n\u001B[32m   1231\u001B[39m             \u001B[38;5;28mself\u001B[39m.\u001B[34m__class__\u001B[39m)\n\u001B[32m-> \u001B[39m\u001B[32m1232\u001B[39m     \u001B[38;5;28;01mreturn\u001B[39;00m \u001B[38;5;28;43mself\u001B[39;49m\u001B[43m.\u001B[49m\u001B[43mread\u001B[49m\u001B[43m(\u001B[49m\u001B[43mbuflen\u001B[49m\u001B[43m)\u001B[49m\n\u001B[32m   1233\u001B[39m \u001B[38;5;28;01melse\u001B[39;00m:\n\u001B[32m   1234\u001B[39m     \u001B[38;5;28;01mreturn\u001B[39;00m \u001B[38;5;28msuper\u001B[39m().recv(buflen, flags)\n",
      "\u001B[36mFile \u001B[39m\u001B[32m/Library/Frameworks/Python.framework/Versions/3.12/lib/python3.12/ssl.py:1105\u001B[39m, in \u001B[36mSSLSocket.read\u001B[39m\u001B[34m(self, len, buffer)\u001B[39m\n\u001B[32m   1103\u001B[39m         \u001B[38;5;28;01mreturn\u001B[39;00m \u001B[38;5;28mself\u001B[39m._sslobj.read(\u001B[38;5;28mlen\u001B[39m, buffer)\n\u001B[32m   1104\u001B[39m     \u001B[38;5;28;01melse\u001B[39;00m:\n\u001B[32m-> \u001B[39m\u001B[32m1105\u001B[39m         \u001B[38;5;28;01mreturn\u001B[39;00m \u001B[38;5;28;43mself\u001B[39;49m\u001B[43m.\u001B[49m\u001B[43m_sslobj\u001B[49m\u001B[43m.\u001B[49m\u001B[43mread\u001B[49m\u001B[43m(\u001B[49m\u001B[38;5;28;43mlen\u001B[39;49m\u001B[43m)\u001B[49m\n\u001B[32m   1106\u001B[39m \u001B[38;5;28;01mexcept\u001B[39;00m SSLError \u001B[38;5;28;01mas\u001B[39;00m x:\n\u001B[32m   1107\u001B[39m     \u001B[38;5;28;01mif\u001B[39;00m x.args[\u001B[32m0\u001B[39m] == SSL_ERROR_EOF \u001B[38;5;129;01mand\u001B[39;00m \u001B[38;5;28mself\u001B[39m.suppress_ragged_eofs:\n",
      "\u001B[31mKeyboardInterrupt\u001B[39m: "
     ]
    }
   ],
   "execution_count": 47
  },
  {
   "metadata": {
    "ExecuteTime": {
     "end_time": "2025-06-06T00:30:03.197851Z",
     "start_time": "2025-06-06T00:30:03.185337Z"
    }
   },
   "cell_type": "code",
   "source": [
    "image_paths = []\n",
    "for filename in os.listdir(CUT_IMAGE_DIR):\n",
    "    image_paths.append(filename)\n",
    "image_paths.sort()\n",
    "image_paths"
   ],
   "id": "e744de62c6083e63",
   "outputs": [
    {
     "data": {
      "text/plain": [
       "['1-1.png',\n",
       " '1-2.png',\n",
       " '1-3.png',\n",
       " '1-4.png',\n",
       " '2-1.png',\n",
       " '2-2.png',\n",
       " '2-3.png',\n",
       " '2-4.png',\n",
       " '2-5.png',\n",
       " '3-1.png',\n",
       " '3-2.png',\n",
       " '3-3.png',\n",
       " '3-4.png',\n",
       " '4-1.png',\n",
       " '4-2.png',\n",
       " '4-3.png']"
      ]
     },
     "execution_count": 51,
     "metadata": {},
     "output_type": "execute_result"
    }
   ],
   "execution_count": 51
  },
  {
   "metadata": {},
   "cell_type": "code",
   "source": [
    "video_generator = video.VideoGenerator(cut_image_list=image_paths)\n",
    "video_generator.execute()"
   ],
   "id": "3a8fd60d726c739d",
   "outputs": [],
   "execution_count": null
  }
 ],
 "metadata": {
  "kernelspec": {
   "display_name": "Python 3",
   "language": "python",
   "name": "python3"
  },
  "language_info": {
   "codemirror_mode": {
    "name": "ipython",
    "version": 2
   },
   "file_extension": ".py",
   "mimetype": "text/x-python",
   "name": "python",
   "nbconvert_exporter": "python",
   "pygments_lexer": "ipython2",
   "version": "2.7.6"
  }
 },
 "nbformat": 4,
 "nbformat_minor": 5
}
